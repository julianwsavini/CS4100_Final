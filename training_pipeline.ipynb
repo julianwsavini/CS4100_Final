{
 "cells": [
  {
   "cell_type": "markdown",
   "metadata": {},
   "source": [
    "##### Imports:"
   ]
  },
  {
   "cell_type": "code",
   "execution_count": 19,
   "metadata": {},
   "outputs": [],
   "source": [
    "from utils import separate_for_training, preprocess\n",
    "import pickle\n",
    "from chroma import get_chromagram\n",
    "import pandas as pd"
   ]
  },
  {
   "cell_type": "markdown",
   "metadata": {},
   "source": [
    "##### Steps:"
   ]
  },
  {
   "cell_type": "markdown",
   "metadata": {},
   "source": [
    "1. Training / Testing Data Split\n",
    "2. Create Chromagram from Training Data\n",
    "3. Create HMM Initialization Components\n",
    "    a. Initial State Probabilities\n",
    "    b. Transition Probability Matrix\n",
    "    c. Mu Value\n",
    "    d. Emission Matrix\n",
    "4. Create HMM Object\n",
    "5. Fit / Train HMM"
   ]
  },
  {
   "cell_type": "markdown",
   "metadata": {},
   "source": [
    "##### Training / Test Data Split:"
   ]
  },
  {
   "cell_type": "code",
   "execution_count": 20,
   "metadata": {},
   "outputs": [
    {
     "name": "stderr",
     "output_type": "stream",
     "text": [
      "100%|██████████| 5762/5762 [00:02<00:00, 2574.01it/s]\n"
     ]
    }
   ],
   "source": [
    "# Load data and split into training and test\n",
    "piece_name_dict = preprocess('dataset.pkl')\n",
    "\n",
    "training_piece_names, _, test_piece_names = separate_for_training(piece_name_dict, 0.8, 0.)\n",
    "\n",
    "with open(r\"dataset.pkl\", 'rb') as data:\n",
    "    midi_data = pickle.load(data)"
   ]
  },
  {
   "cell_type": "markdown",
   "metadata": {},
   "source": [
    "##### Create Chromagram from Training Data:"
   ]
  },
  {
   "cell_type": "code",
   "execution_count": 21,
   "metadata": {},
   "outputs": [
    {
     "ename": "TypeError",
     "evalue": "get_chromagram() takes 1 positional argument but 2 were given",
     "output_type": "error",
     "traceback": [
      "\u001b[1;31m---------------------------------------------------------------------------\u001b[0m",
      "\u001b[1;31mTypeError\u001b[0m                                 Traceback (most recent call last)",
      "Cell \u001b[1;32mIn[21], line 3\u001b[0m\n\u001b[0;32m      1\u001b[0m song_chromagrams \u001b[38;5;241m=\u001b[39m []\n\u001b[0;32m      2\u001b[0m \u001b[38;5;28;01mfor\u001b[39;00m song_name \u001b[38;5;129;01min\u001b[39;00m training_piece_names:\n\u001b[1;32m----> 3\u001b[0m     indiv_chroma \u001b[38;5;241m=\u001b[39m \u001b[43mget_chromagram\u001b[49m\u001b[43m(\u001b[49m\u001b[43msong_name\u001b[49m\u001b[43m,\u001b[49m\u001b[43m \u001b[49m\u001b[43mmidi_data\u001b[49m\u001b[43m)\u001b[49m\n\u001b[0;32m      5\u001b[0m chromagram \u001b[38;5;241m=\u001b[39m pd\u001b[38;5;241m.\u001b[39mconcat(song_chromagrams)\n\u001b[0;32m      6\u001b[0m chromagram\u001b[38;5;241m.\u001b[39mhead(\u001b[38;5;241m6\u001b[39m)\n",
      "\u001b[1;31mTypeError\u001b[0m: get_chromagram() takes 1 positional argument but 2 were given"
     ]
    }
   ],
   "source": [
    "song_chromagrams = []\n",
    "for song_name in training_piece_names:\n",
    "    indiv_chroma = get_chromagram(song_name, midi_data)\n",
    "\n",
    "chromagram = pd.concat(song_chromagrams)\n",
    "chromagram.head(6)"
   ]
  }
 ],
 "metadata": {
  "kernelspec": {
   "display_name": ".venv",
   "language": "python",
   "name": "python3"
  },
  "language_info": {
   "codemirror_mode": {
    "name": "ipython",
    "version": 3
   },
   "file_extension": ".py",
   "mimetype": "text/x-python",
   "name": "python",
   "nbconvert_exporter": "python",
   "pygments_lexer": "ipython3",
   "version": "3.10.2"
  }
 },
 "nbformat": 4,
 "nbformat_minor": 2
}
