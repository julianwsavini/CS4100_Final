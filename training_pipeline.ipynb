{
 "cells": [
  {
   "cell_type": "markdown",
   "metadata": {},
   "source": [
    "##### Imports:"
   ]
  },
  {
   "cell_type": "code",
   "execution_count": null,
   "outputs": [],
   "source": [
    "from utils import new_predict, separate_for_training, calculate_emission_from_chroma, calculate_mu_from_chroma, calculate_transition_probabilites, format_indiv_chroma, predict, get_unique_predicted, calculate_initial_probabilities\n",
    "import pickle\n",
    "from chroma import get_chromagram\n",
    "import pandas as pd\n",
    "from tqdm import tqdm\n",
    "import numpy as np\n",
    "from hmmlearn import hmm"
   ],
   "metadata": {
    "collapsed": false,
    "pycharm": {
     "name": "#%%\n"
    }
   }
  },
  {
   "cell_type": "markdown",
   "source": [
    "##### Steps:"
   ],
   "metadata": {
    "collapsed": false,
    "pycharm": {
     "name": "#%% md\n"
    }
   }
  },
  {
   "cell_type": "markdown",
   "source": [
    "1. Training / Testing Data Split\n",
    "2. Create Chromagram from Training Data\n",
    "3. Create HMM Initialization Components\n",
    "    - Initial State Probabilities\n",
    "    - Transition Probability Matrix\n",
    "    - Mu Value\n",
    "    - Emission Matrix\n",
    "4. Create HMM Object\n",
    "5. Fit / Train HMM"
   ],
   "metadata": {
    "collapsed": false,
    "pycharm": {
     "name": "#%% md\n"
    }
   }
  },
  {
   "cell_type": "markdown",
   "source": [
    "##### Training / Test Data Split:"
   ],
   "metadata": {
    "collapsed": false,
    "pycharm": {
     "name": "#%% md\n"
    }
   }
  },
  {
   "cell_type": "code",
   "execution_count": null,
   "outputs": [],
   "source": [
    "# Load data and split into training and test\n",
    "with open(r\"dataset.pkl\", 'rb') as data:\n",
    "    midi_data:dict = pickle.load(data)\n",
    "\n",
    "training_piece_names, _, test_piece_names = separate_for_training(midi_data, 0.8, 0.)\n"
   ],
   "metadata": {
    "collapsed": false,
    "pycharm": {
     "name": "#%%\n"
    }
   }
  },
  {
   "cell_type": "markdown",
   "source": [
    "##### Create Chromagram from Training Data:"
   ],
   "metadata": {
    "collapsed": false,
    "pycharm": {
     "name": "#%% md\n"
    }
   }
  },
  {
   "cell_type": "code",
   "execution_count": null,
   "outputs": [],
   "source": [
    "song_chromagrams = []\n",
    "for song_name in tqdm(list(training_piece_names)):\n",
    "    indiv_chroma = get_chromagram(song_name, midi_data)\n",
    "    formatted = format_indiv_chroma(indiv_chroma)\n",
    "    song_chromagrams.append(indiv_chroma)\n",
    "\n",
    "chromagram = pd.concat(song_chromagrams)\n",
    "chromagram.head(200)"
   ],
   "metadata": {
    "collapsed": false,
    "pycharm": {
     "name": "#%%\n"
    }
   }
  },
  {
   "cell_type": "markdown",
   "source": [
    "##### Create HMM Components:"
   ],
   "metadata": {
    "collapsed": false,
    "pycharm": {
     "name": "#%% md\n"
    }
   }
  },
  {
   "cell_type": "markdown",
   "source": [
    "###### Initial State Probabilities:"
   ],
   "metadata": {
    "collapsed": false,
    "pycharm": {
     "name": "#%% md\n"
    }
   }
  },
  {
   "cell_type": "code",
   "execution_count": null,
   "outputs": [],
   "source": [
    "initial_state_probabilties = calculate_initial_probabilities(training_piece_names, midi_data)\n",
    "initial_state_probabilties"
   ],
   "metadata": {
    "collapsed": false,
    "pycharm": {
     "name": "#%%\n"
    }
   }
  },
  {
   "cell_type": "markdown",
   "source": [
    "###### Transition Matrix:"
   ],
   "metadata": {
    "collapsed": false,
    "pycharm": {
     "name": "#%% md\n"
    }
   }
  },
  {
   "cell_type": "code",
   "execution_count": null,
   "outputs": [],
   "source": [
    "transition_prob_matrix = calculate_transition_probabilites(chromagram)\n",
    "transition_prob_matrix"
   ],
   "metadata": {
    "collapsed": false,
    "pycharm": {
     "name": "#%%\n"
    }
   }
  },
  {
   "cell_type": "markdown",
   "source": [
    "###### Mu Value:"
   ],
   "metadata": {
    "collapsed": false,
    "pycharm": {
     "name": "#%% md\n"
    }
   }
  },
  {
   "cell_type": "code",
   "execution_count": null,
   "outputs": [],
   "source": [
    "mu = calculate_mu_from_chroma(chromagram)"
   ],
   "metadata": {
    "collapsed": false,
    "pycharm": {
     "name": "#%%\n"
    }
   }
  },
  {
   "cell_type": "markdown",
   "source": [
    "###### Emission Matrix:"
   ],
   "metadata": {
    "collapsed": false,
    "pycharm": {
     "name": "#%% md\n"
    }
   }
  },
  {
   "cell_type": "code",
   "execution_count": null,
   "outputs": [],
   "source": [
    "NOTES_NAMES =   [\"C\", \"C#\", \"D\", \"D#\", \"E\", \"F\", \"F#\", \"G\", \"G#\", \"A\", \"A#\", \"B\"]\n",
    "FULL_CHORD_LIST = [note + suffix for note in NOTES_NAMES for suffix in ['', 'm', 'dim']]\n",
    "def calculate_emission_from_chroma_adjusted(chroma):\n",
    "    emission_matrices = np.zeros((36,36,36))\n",
    "\n",
    "    # For simplicity, use the occurrence of each chord as a feature\n",
    "    # This example assumes 'chroma' is a DataFrame that includes a 'Chord Actual' column\n",
    "    chord_counts = chroma['Chord Actual'].value_counts(normalize=True)\n",
    "\n",
    "    for i, chord in enumerate(FULL_CHORD_LIST):\n",
    "        # Initialize a matrix for the current chord\n",
    "        matrix = np.zeros((36,36))\n",
    "        \n",
    "        # If the chord is observed in the dataset, fill its matrix diagonally with its normalized count\n",
    "        # This is a proxy for its \"presence\" or \"significance\" in the dataset\n",
    "        if chord in chord_counts:\n",
    "            np.fill_diagonal(matrix, chord_counts[chord])\n",
    "        else:\n",
    "            # For chords not present in the dataset, consider a minimal presence value\n",
    "            np.fill_diagonal(matrix, 0.01)  # A small value to indicate minimal presence\n",
    "        \n",
    "        # Assign this matrix to the corresponding slot in the emission_matrices\n",
    "        emission_matrices[i] = matrix\n",
    "\n",
    "    return emission_matrices\n",
    "emission = calculate_emission_from_chroma_adjusted(chromagram)"
   ],
   "metadata": {
    "collapsed": false,
    "pycharm": {
     "name": "#%%\n"
    }
   }
  },
  {
   "cell_type": "code",
   "execution_count": null,
   "outputs": [],
   "source": [
    "emission\n",
    "equal = np.array_equal(emission, emission.T)\n",
    "print(equal)\n",
    "print(emission.shape)\n",
    "print(np.linalg.cholesky(emission))"
   ],
   "metadata": {
    "collapsed": false,
    "pycharm": {
     "name": "#%%\n"
    }
   }
  },
  {
   "cell_type": "code",
   "execution_count": null,
   "outputs": [],
   "source": [
    "def calculate_mu_from_chroma(chroma):\n",
    "    # Assuming `chroma` includes features or can be mapped to features that correspond to the FULL_CHORD_LIST\n",
    "    # and that each chord in FULL_CHORD_LIST has a corresponding set of features in `chroma`\n",
    "    \n",
    "    # Initialize a placeholder for the mean values of the features corresponding to each chord\n",
    "    mu_values = np.zeros(len(FULL_CHORD_LIST))\n",
    "    \n",
    "    # For simplicity in this example, we assume each chord corresponds to a single feature/column in `chroma`.\n",
    "    # If each chord's representation is more complex, you'll need to adjust the calculation accordingly.\n",
    "    for i, chord in enumerate(FULL_CHORD_LIST):\n",
    "        # Calculate the mean of the feature(s) corresponding to this chord.\n",
    "        # This requires `chroma` to have columns directly corresponding to each chord, or a mapping to such columns.\n",
    "        if chord in chroma.columns:\n",
    "            mu_values[i] = chroma[chord].mean()\n",
    "        else:\n",
    "            # Handle case where a chord doesn't have a direct column or mapping in `chroma`\n",
    "            # For simplicity, setting to 0 or some default value - adjust based on your data structure\n",
    "            mu_values[i] = 0\n",
    "    \n",
    "    return mu_values\n",
    "mu = calculate_mu_from_chroma(chromagram)\n",
    "model = hmm.GaussianHMM(n_components=transition_prob_matrix.shape[0], covariance_type=\"full\")\n",
    "model.startprob_ = initial_state_probabilties\n",
    "model.transmat_ = transition_prob_matrix.values\n",
    "model.means_ = mu.reshape(-1, 1)\n",
    "model.covars_ = emission\n",
    "print(model.means_.shape)\n"
   ],
   "metadata": {
    "collapsed": false,
    "pycharm": {
     "name": "#%%\n"
    }
   }
  },
  {
   "cell_type": "code",
   "execution_count": null,
   "outputs": [],
   "source": [
    "chroma_with_preds = new_predict(transition_prob_matrix, model)"
   ],
   "metadata": {
    "collapsed": false,
    "pycharm": {
     "name": "#%%\n"
    }
   }
  },
  {
   "cell_type": "code",
   "execution_count": null,
   "metadata": {
    "pycharm": {
     "name": "#%%\n"
    }
   },
   "outputs": [],
   "source": []
  },
  {
   "cell_type": "code",
   "execution_count": null,
   "metadata": {
    "pycharm": {
     "name": "#%%\n"
    }
   },
   "outputs": [],
   "source": []
  },
  {
   "cell_type": "code",
   "execution_count": null,
   "metadata": {},
   "outputs": [],
   "source": []
  },
  {
   "cell_type": "code",
   "execution_count": null,
   "metadata": {},
   "outputs": [],
   "source": []
  }
 ],
 "metadata": {
  "kernelspec": {
   "display_name": "Python 3 (ipykernel)",
   "language": "python",
   "name": "python3"
  },
  "language_info": {
   "codemirror_mode": {
    "name": "ipython",
    "version": 3
   },
   "file_extension": ".py",
   "mimetype": "text/x-python",
   "name": "python",
   "nbconvert_exporter": "python",
   "pygments_lexer": "ipython3",
   "version": "3.7.10"
  }
 },
 "nbformat": 4,
 "nbformat_minor": 2
}