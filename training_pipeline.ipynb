{
 "cells": [
  {
   "cell_type": "markdown",
   "metadata": {},
   "source": [
    "##### Imports:"
   ]
  },
  {
   "cell_type": "code",
   "execution_count": 23,
   "metadata": {
    "ExecuteTime": {
     "end_time": "2024-04-05T17:55:00.947832800Z",
     "start_time": "2024-04-05T17:55:00.921835800Z"
    }
   },
   "outputs": [],
   "source": [
    "from utils import separate_for_training, preprocess, calculate_emission_from_chroma, calculate_mu_from_chroma, calculate_transition_probabilites, format_indiv_chroma, predict, get_unique_predicted\n",
    "import pickle\n",
    "from chroma import get_chromagram\n",
    "import pandas as pd\n",
    "from tqdm import tqdm\n",
    "import numpy as np\n",
    "from hmmlearn import hmm"
   ]
  },
  {
   "cell_type": "markdown",
   "metadata": {},
   "source": [
    "##### Steps:"
   ]
  },
  {
   "cell_type": "markdown",
   "metadata": {},
   "source": [
    "1. Training / Testing Data Split\n",
    "2. Create Chromagram from Training Data\n",
    "3. Create HMM Initialization Components\n",
    "    - Initial State Probabilities\n",
    "    - Transition Probability Matrix\n",
    "    - Mu Value\n",
    "    - Emission Matrix\n",
    "4. Create HMM Object\n",
    "5. Fit / Train HMM"
   ]
  },
  {
   "cell_type": "markdown",
   "metadata": {},
   "source": [
    "##### Training / Test Data Split:"
   ]
  },
  {
   "cell_type": "code",
   "execution_count": 13,
   "metadata": {
    "ExecuteTime": {
     "end_time": "2024-04-05T17:52:36.641565800Z",
     "start_time": "2024-04-05T17:52:27.849797200Z"
    }
   },
   "outputs": [
    {
     "name": "stderr",
     "output_type": "stream",
     "text": [
      "100%|██████████| 5762/5762 [00:08<00:00, 718.09it/s] \n"
     ]
    }
   ],
   "source": [
    "# Load data and split into training and test\n",
    "piece_name_dict = preprocess('dataset.pkl')\n",
    "\n",
    "training_piece_names, _, test_piece_names = separate_for_training(piece_name_dict, 0.8, 0.)\n",
    "\n",
    "with open(r\"dataset.pkl\", 'rb') as data:\n",
    "    midi_data = pickle.load(data)"
   ]
  },
  {
   "cell_type": "markdown",
   "metadata": {},
   "source": [
    "##### Create Chromagram from Training Data:"
   ]
  },
  {
   "cell_type": "code",
   "execution_count": 14,
   "metadata": {
    "ExecuteTime": {
     "end_time": "2024-04-05T17:53:48.554289100Z",
     "start_time": "2024-04-05T17:52:36.649067300Z"
    }
   },
   "outputs": [
    {
     "name": "stderr",
     "output_type": "stream",
     "text": [
      "100%|██████████| 4609/4609 [01:11<00:00, 64.59it/s]\n"
     ]
    },
    {
     "data": {
      "text/plain": "    C  C#  D  D#    E  F  F#  G   G#  A  A#    B Chord Actual\n0   0   0  0  48    0  0  48  0    0  0   0   98            B\n1   0   0  0  48    0  0  48  0    0  0   0   98            B\n2   0   0  0  48    0  0  48  0    0  0   0   45            B\n3   0   0  0  48    0  0  48  0    0  0   0   45            B\n4   0   0  0   0    0  0  60  0    0  0   0    0            B\n.. ..  .. ..  ..  ... ..  .. ..  ... ..  ..  ...          ...\n4   0   0  0   0  153  0   0  0  145  0   0   69            G\n6   0   0  0   0    0  0   0  0    0  0   0   85            G\n8   0   0  0  62    0  0  88  0   70  0   0  271           Bm\n9   0   0  0  62    0  0  88  0   70  0   0  271           Bm\n11  0   0  0  74    0  0  90  0   66  0   0  285           Bm\n\n[200 rows x 13 columns]",
      "text/html": "<div>\n<style scoped>\n    .dataframe tbody tr th:only-of-type {\n        vertical-align: middle;\n    }\n\n    .dataframe tbody tr th {\n        vertical-align: top;\n    }\n\n    .dataframe thead th {\n        text-align: right;\n    }\n</style>\n<table border=\"1\" class=\"dataframe\">\n  <thead>\n    <tr style=\"text-align: right;\">\n      <th></th>\n      <th>C</th>\n      <th>C#</th>\n      <th>D</th>\n      <th>D#</th>\n      <th>E</th>\n      <th>F</th>\n      <th>F#</th>\n      <th>G</th>\n      <th>G#</th>\n      <th>A</th>\n      <th>A#</th>\n      <th>B</th>\n      <th>Chord Actual</th>\n    </tr>\n  </thead>\n  <tbody>\n    <tr>\n      <th>0</th>\n      <td>0</td>\n      <td>0</td>\n      <td>0</td>\n      <td>48</td>\n      <td>0</td>\n      <td>0</td>\n      <td>48</td>\n      <td>0</td>\n      <td>0</td>\n      <td>0</td>\n      <td>0</td>\n      <td>98</td>\n      <td>B</td>\n    </tr>\n    <tr>\n      <th>1</th>\n      <td>0</td>\n      <td>0</td>\n      <td>0</td>\n      <td>48</td>\n      <td>0</td>\n      <td>0</td>\n      <td>48</td>\n      <td>0</td>\n      <td>0</td>\n      <td>0</td>\n      <td>0</td>\n      <td>98</td>\n      <td>B</td>\n    </tr>\n    <tr>\n      <th>2</th>\n      <td>0</td>\n      <td>0</td>\n      <td>0</td>\n      <td>48</td>\n      <td>0</td>\n      <td>0</td>\n      <td>48</td>\n      <td>0</td>\n      <td>0</td>\n      <td>0</td>\n      <td>0</td>\n      <td>45</td>\n      <td>B</td>\n    </tr>\n    <tr>\n      <th>3</th>\n      <td>0</td>\n      <td>0</td>\n      <td>0</td>\n      <td>48</td>\n      <td>0</td>\n      <td>0</td>\n      <td>48</td>\n      <td>0</td>\n      <td>0</td>\n      <td>0</td>\n      <td>0</td>\n      <td>45</td>\n      <td>B</td>\n    </tr>\n    <tr>\n      <th>4</th>\n      <td>0</td>\n      <td>0</td>\n      <td>0</td>\n      <td>0</td>\n      <td>0</td>\n      <td>0</td>\n      <td>60</td>\n      <td>0</td>\n      <td>0</td>\n      <td>0</td>\n      <td>0</td>\n      <td>0</td>\n      <td>B</td>\n    </tr>\n    <tr>\n      <th>...</th>\n      <td>...</td>\n      <td>...</td>\n      <td>...</td>\n      <td>...</td>\n      <td>...</td>\n      <td>...</td>\n      <td>...</td>\n      <td>...</td>\n      <td>...</td>\n      <td>...</td>\n      <td>...</td>\n      <td>...</td>\n      <td>...</td>\n    </tr>\n    <tr>\n      <th>4</th>\n      <td>0</td>\n      <td>0</td>\n      <td>0</td>\n      <td>0</td>\n      <td>153</td>\n      <td>0</td>\n      <td>0</td>\n      <td>0</td>\n      <td>145</td>\n      <td>0</td>\n      <td>0</td>\n      <td>69</td>\n      <td>G</td>\n    </tr>\n    <tr>\n      <th>6</th>\n      <td>0</td>\n      <td>0</td>\n      <td>0</td>\n      <td>0</td>\n      <td>0</td>\n      <td>0</td>\n      <td>0</td>\n      <td>0</td>\n      <td>0</td>\n      <td>0</td>\n      <td>0</td>\n      <td>85</td>\n      <td>G</td>\n    </tr>\n    <tr>\n      <th>8</th>\n      <td>0</td>\n      <td>0</td>\n      <td>0</td>\n      <td>62</td>\n      <td>0</td>\n      <td>0</td>\n      <td>88</td>\n      <td>0</td>\n      <td>70</td>\n      <td>0</td>\n      <td>0</td>\n      <td>271</td>\n      <td>Bm</td>\n    </tr>\n    <tr>\n      <th>9</th>\n      <td>0</td>\n      <td>0</td>\n      <td>0</td>\n      <td>62</td>\n      <td>0</td>\n      <td>0</td>\n      <td>88</td>\n      <td>0</td>\n      <td>70</td>\n      <td>0</td>\n      <td>0</td>\n      <td>271</td>\n      <td>Bm</td>\n    </tr>\n    <tr>\n      <th>11</th>\n      <td>0</td>\n      <td>0</td>\n      <td>0</td>\n      <td>74</td>\n      <td>0</td>\n      <td>0</td>\n      <td>90</td>\n      <td>0</td>\n      <td>66</td>\n      <td>0</td>\n      <td>0</td>\n      <td>285</td>\n      <td>Bm</td>\n    </tr>\n  </tbody>\n</table>\n<p>200 rows × 13 columns</p>\n</div>"
     },
     "execution_count": 14,
     "metadata": {},
     "output_type": "execute_result"
    }
   ],
   "source": [
    "song_chromagrams = []\n",
    "for song_name in tqdm(list(training_piece_names)):\n",
    "    indiv_chroma = get_chromagram(song_name, midi_data)\n",
    "    formatted = format_indiv_chroma(indiv_chroma)\n",
    "    song_chromagrams.append(indiv_chroma)\n",
    "\n",
    "chromagram = pd.concat(song_chromagrams)\n",
    "chromagram.head(200)"
   ]
  },
  {
   "cell_type": "markdown",
   "metadata": {},
   "source": [
    "##### Create HMM Components:"
   ]
  },
  {
   "cell_type": "markdown",
   "metadata": {},
   "source": [
    "###### Initial State Probabilities:"
   ]
  },
  {
   "cell_type": "code",
   "execution_count": 15,
   "metadata": {
    "ExecuteTime": {
     "end_time": "2024-04-05T17:53:48.587036400Z",
     "start_time": "2024-04-05T17:53:48.539949300Z"
    }
   },
   "outputs": [],
   "source": [
    "def calculate_init_prob(song_chromagrams):\n",
    "    first_chords = []\n",
    "    for song_chroma in tqdm(song_chromagrams):\n",
    "        first_chord = song_chroma['Chord Actual'].values[0]\n",
    "        first_chords.append(first_chord)\n",
    "    \n",
    "    first_chord_counts = np.unique(first_chords, return_counts=True)\n",
    "\n",
    "    return pd.Series(first_chord_counts[1]/first_chord_counts[1].sum(), index=first_chord_counts[0])"
   ]
  },
  {
   "cell_type": "code",
   "execution_count": 16,
   "metadata": {
    "ExecuteTime": {
     "end_time": "2024-04-05T17:53:49.244033900Z",
     "start_time": "2024-04-05T17:53:48.573506800Z"
    }
   },
   "outputs": [
    {
     "name": "stderr",
     "output_type": "stream",
     "text": [
      "100%|██████████| 4609/4609 [00:00<00:00, 10067.75it/s]\n"
     ]
    },
    {
     "data": {
      "text/plain": "A        0.019744\nA#       0.000217\nA#dim    0.000217\nB        0.119115\nBm       0.157735\nC#dim    0.000217\nC#m      0.061619\nD        0.116728\nD#m      0.019093\nE        0.122152\nEm       0.059666\nF#       0.019527\nF#m      0.020829\nG        0.117813\nG#m      0.165329\ndtype: float64"
     },
     "execution_count": 16,
     "metadata": {},
     "output_type": "execute_result"
    }
   ],
   "source": [
    "initial_state_probabilties = calculate_init_prob(song_chromagrams)\n",
    "initial_state_probabilties"
   ]
  },
  {
   "cell_type": "markdown",
   "metadata": {},
   "source": [
    "###### Transition Matrix:"
   ]
  },
  {
   "cell_type": "code",
   "execution_count": 17,
   "metadata": {
    "ExecuteTime": {
     "end_time": "2024-04-05T17:53:49.497399500Z",
     "start_time": "2024-04-05T17:53:49.064740100Z"
    }
   },
   "outputs": [
    {
     "name": "stderr",
     "output_type": "stream",
     "text": [
      "C:\\Users\\julia\\CS4100\\final\\CS4100_Final\\utils.py:138: FutureWarning: Setting an item of incompatible dtype is deprecated and will raise in a future error of pandas. Value '[8.63720074e-01 0.00000000e+00 0.00000000e+00 0.00000000e+00\n",
      " 0.00000000e+00 0.00000000e+00 0.00000000e+00 0.00000000e+00\n",
      " 0.00000000e+00 0.00000000e+00 0.00000000e+00 0.00000000e+00\n",
      " 0.00000000e+00 1.50852316e-04 0.00000000e+00 1.18773946e-01\n",
      " 0.00000000e+00 0.00000000e+00 0.00000000e+00 0.00000000e+00\n",
      " 0.00000000e+00 5.41931988e-04 0.00000000e+00 0.00000000e+00\n",
      " 0.00000000e+00 6.45286184e-05 0.00000000e+00 7.26005518e-05\n",
      " 0.00000000e+00 0.00000000e+00 0.00000000e+00 0.00000000e+00\n",
      " 0.00000000e+00 0.00000000e+00 6.64805212e-05 0.00000000e+00]' has dtype incompatible with int64, please explicitly cast to a compatible dtype first.\n",
      "  all_chords_matrix.update(transition_prob_matrix)\n",
      "C:\\Users\\julia\\CS4100\\final\\CS4100_Final\\utils.py:138: FutureWarning: Setting an item of incompatible dtype is deprecated and will raise in a future error of pandas. Value '[0.         0.         0.         0.         0.86000879 0.00775194\n",
      " 0.00205577 0.         0.         0.         0.01036269 0.\n",
      " 0.01579259 0.00165938 0.         0.         0.         0.\n",
      " 0.01174556 0.00219335 0.         0.00216773 0.         0.\n",
      " 0.         0.01200232 0.         0.00297662 0.         0.\n",
      " 0.         0.         0.         0.01502795 0.00099721 0.        ]' has dtype incompatible with int64, please explicitly cast to a compatible dtype first.\n",
      "  all_chords_matrix.update(transition_prob_matrix)\n",
      "C:\\Users\\julia\\CS4100\\final\\CS4100_Final\\utils.py:138: FutureWarning: Setting an item of incompatible dtype is deprecated and will raise in a future error of pandas. Value '[0.00000000e+00 0.00000000e+00 0.00000000e+00 0.00000000e+00\n",
      " 0.00000000e+00 8.81136951e-01 1.78762960e-04 0.00000000e+00\n",
      " 0.00000000e+00 0.00000000e+00 0.00000000e+00 0.00000000e+00\n",
      " 0.00000000e+00 0.00000000e+00 0.00000000e+00 0.00000000e+00\n",
      " 0.00000000e+00 0.00000000e+00 0.00000000e+00 0.00000000e+00\n",
      " 0.00000000e+00 6.77414984e-05 0.00000000e+00 0.00000000e+00\n",
      " 0.00000000e+00 0.00000000e+00 0.00000000e+00 2.97662262e-03\n",
      " 0.00000000e+00 0.00000000e+00 0.00000000e+00 0.00000000e+00\n",
      " 0.00000000e+00 0.00000000e+00 1.32961042e-04 0.00000000e+00]' has dtype incompatible with int64, please explicitly cast to a compatible dtype first.\n",
      "  all_chords_matrix.update(transition_prob_matrix)\n",
      "C:\\Users\\julia\\CS4100\\final\\CS4100_Final\\utils.py:138: FutureWarning: Setting an item of incompatible dtype is deprecated and will raise in a future error of pandas. Value '[0.         0.         0.         0.         0.00248938 0.00516796\n",
      " 0.86333572 0.         0.         0.0625     0.00518135 0.\n",
      " 0.00388235 0.01025796 0.         0.00383142 0.         0.\n",
      " 0.00537749 0.0060739  0.         0.03109335 0.         0.\n",
      " 0.         0.00219397 0.         0.01996515 0.         0.\n",
      " 0.01388889 0.         0.02094241 0.00952992 0.02360059 0.        ]' has dtype incompatible with int64, please explicitly cast to a compatible dtype first.\n",
      "  all_chords_matrix.update(transition_prob_matrix)\n",
      "C:\\Users\\julia\\CS4100\\final\\CS4100_Final\\utils.py:138: FutureWarning: Setting an item of incompatible dtype is deprecated and will raise in a future error of pandas. Value '[0.         0.         0.         0.         0.         0.\n",
      " 0.         0.         0.         0.875      0.         0.\n",
      " 0.         0.         0.         0.         0.         0.\n",
      " 0.         0.         0.         0.         0.         0.\n",
      " 0.         0.         0.         0.         0.         0.\n",
      " 0.08333333 0.         0.         0.         0.         0.        ]' has dtype incompatible with int64, please explicitly cast to a compatible dtype first.\n",
      "  all_chords_matrix.update(transition_prob_matrix)\n",
      "C:\\Users\\julia\\CS4100\\final\\CS4100_Final\\utils.py:138: FutureWarning: Setting an item of incompatible dtype is deprecated and will raise in a future error of pandas. Value '[1.84162063e-03 0.00000000e+00 0.00000000e+00 0.00000000e+00\n",
      " 1.43505638e-02 0.00000000e+00 4.46907401e-04 0.00000000e+00\n",
      " 0.00000000e+00 0.00000000e+00 8.66956376e-01 0.00000000e+00\n",
      " 7.56728302e-03 3.01704631e-04 0.00000000e+00 0.00000000e+00\n",
      " 0.00000000e+00 0.00000000e+00 1.06842143e-02 8.43597098e-04\n",
      " 0.00000000e+00 8.12897981e-04 0.00000000e+00 0.00000000e+00\n",
      " 0.00000000e+00 2.20042589e-02 0.00000000e+00 1.08900828e-03\n",
      " 0.00000000e+00 0.00000000e+00 0.00000000e+00 0.00000000e+00\n",
      " 5.23560209e-03 4.21515624e-03 1.99441564e-04 0.00000000e+00]' has dtype incompatible with int64, please explicitly cast to a compatible dtype first.\n",
      "  all_chords_matrix.update(transition_prob_matrix)\n",
      "C:\\Users\\julia\\CS4100\\final\\CS4100_Final\\utils.py:138: FutureWarning: Setting an item of incompatible dtype is deprecated and will raise in a future error of pandas. Value '[0.00552486 0.         0.         0.         0.04275882 0.00775194\n",
      " 0.00402217 0.         0.         0.         0.07571452 0.\n",
      " 0.86648681 0.00241364 0.         0.         0.         0.\n",
      " 0.02193448 0.0060739  0.         0.00379352 0.         0.\n",
      " 0.         0.02665032 0.         0.00972847 0.         0.\n",
      " 0.         0.         0.01570681 0.02061761 0.00245978 0.        ]' has dtype incompatible with int64, please explicitly cast to a compatible dtype first.\n",
      "  all_chords_matrix.update(transition_prob_matrix)\n",
      "C:\\Users\\julia\\CS4100\\final\\CS4100_Final\\utils.py:138: FutureWarning: Setting an item of incompatible dtype is deprecated and will raise in a future error of pandas. Value '[1.84162063e-03 0.00000000e+00 0.00000000e+00 0.00000000e+00\n",
      " 1.90364621e-03 1.03359173e-02 1.43904183e-02 0.00000000e+00\n",
      " 0.00000000e+00 0.00000000e+00 1.67140231e-03 0.00000000e+00\n",
      " 1.77666645e-03 8.59858199e-01 0.00000000e+00 0.00000000e+00\n",
      " 0.00000000e+00 0.00000000e+00 3.60857567e-03 8.60469040e-03\n",
      " 0.00000000e+00 1.63257011e-02 0.00000000e+00 0.00000000e+00\n",
      " 0.00000000e+00 7.09814803e-04 0.00000000e+00 1.11078844e-02\n",
      " 0.00000000e+00 0.00000000e+00 2.77777778e-02 0.00000000e+00\n",
      " 7.85340314e-03 1.83267662e-03 1.20329743e-02 0.00000000e+00]' has dtype incompatible with int64, please explicitly cast to a compatible dtype first.\n",
      "  all_chords_matrix.update(transition_prob_matrix)\n",
      "C:\\Users\\julia\\CS4100\\final\\CS4100_Final\\utils.py:138: FutureWarning: Setting an item of incompatible dtype is deprecated and will raise in a future error of pandas. Value '[1.84162063e-03 0.00000000e+00 0.00000000e+00 0.00000000e+00\n",
      " 0.00000000e+00 0.00000000e+00 6.16732213e-03 0.00000000e+00\n",
      " 0.00000000e+00 0.00000000e+00 0.00000000e+00 0.00000000e+00\n",
      " 0.00000000e+00 1.50852316e-04 0.00000000e+00 8.63984674e-01\n",
      " 0.00000000e+00 0.00000000e+00 0.00000000e+00 0.00000000e+00\n",
      " 0.00000000e+00 0.00000000e+00 0.00000000e+00 0.00000000e+00\n",
      " 0.00000000e+00 0.00000000e+00 0.00000000e+00 0.00000000e+00\n",
      " 0.00000000e+00 0.00000000e+00 0.00000000e+00 0.00000000e+00\n",
      " 0.00000000e+00 0.00000000e+00 0.00000000e+00 0.00000000e+00]' has dtype incompatible with int64, please explicitly cast to a compatible dtype first.\n",
      "  all_chords_matrix.update(transition_prob_matrix)\n",
      "C:\\Users\\julia\\CS4100\\final\\CS4100_Final\\utils.py:138: FutureWarning: Setting an item of incompatible dtype is deprecated and will raise in a future error of pandas. Value '[0.00000000e+00 0.00000000e+00 0.00000000e+00 0.00000000e+00\n",
      " 1.25933519e-02 2.58397933e-03 4.46907401e-04 0.00000000e+00\n",
      " 0.00000000e+00 0.00000000e+00 1.83854254e-03 0.00000000e+00\n",
      " 3.90208594e-02 7.54261578e-04 0.00000000e+00 0.00000000e+00\n",
      " 0.00000000e+00 0.00000000e+00 8.63581688e-01 1.34975536e-03\n",
      " 0.00000000e+00 4.74190489e-04 0.00000000e+00 0.00000000e+00\n",
      " 0.00000000e+00 4.36213461e-02 0.00000000e+00 1.08900828e-03\n",
      " 0.00000000e+00 0.00000000e+00 0.00000000e+00 0.00000000e+00\n",
      " 2.61780105e-03 4.73746907e-02 1.99441564e-04 0.00000000e+00]' has dtype incompatible with int64, please explicitly cast to a compatible dtype first.\n",
      "  all_chords_matrix.update(transition_prob_matrix)\n",
      "C:\\Users\\julia\\CS4100\\final\\CS4100_Final\\utils.py:138: FutureWarning: Setting an item of incompatible dtype is deprecated and will raise in a future error of pandas. Value '[1.84162063e-03 0.00000000e+00 0.00000000e+00 0.00000000e+00\n",
      " 1.46434324e-04 2.58397933e-03 3.93278513e-03 0.00000000e+00\n",
      " 0.00000000e+00 0.00000000e+00 6.68560923e-04 0.00000000e+00\n",
      " 7.23827071e-04 1.04088098e-02 0.00000000e+00 0.00000000e+00\n",
      " 0.00000000e+00 0.00000000e+00 1.27361494e-03 8.69411169e-01\n",
      " 0.00000000e+00 1.00257418e-02 0.00000000e+00 0.00000000e+00\n",
      " 0.00000000e+00 1.93585855e-04 0.00000000e+00 1.03092784e-02\n",
      " 0.00000000e+00 0.00000000e+00 0.00000000e+00 0.00000000e+00\n",
      " 0.00000000e+00 6.41436818e-04 2.16061694e-02 0.00000000e+00]' has dtype incompatible with int64, please explicitly cast to a compatible dtype first.\n",
      "  all_chords_matrix.update(transition_prob_matrix)\n",
      "C:\\Users\\julia\\CS4100\\final\\CS4100_Final\\utils.py:138: FutureWarning: Setting an item of incompatible dtype is deprecated and will raise in a future error of pandas. Value '[0.11418048 0.         0.         0.         0.00292869 0.01808786\n",
      " 0.01877011 0.         0.         0.04166667 0.00584991 0.\n",
      " 0.00421136 0.0458591  0.         0.         0.         0.\n",
      " 0.00622656 0.06748777 0.         0.8672944  0.         0.\n",
      " 0.08333333 0.0018068  0.         0.02141716 0.         0.\n",
      " 0.         0.         0.0078534  0.00302392 0.02699109 0.        ]' has dtype incompatible with int64, please explicitly cast to a compatible dtype first.\n",
      "  all_chords_matrix.update(transition_prob_matrix)\n",
      "C:\\Users\\julia\\CS4100\\final\\CS4100_Final\\utils.py:138: FutureWarning: Setting an item of incompatible dtype is deprecated and will raise in a future error of pandas. Value '[0.00000000e+00 0.00000000e+00 0.00000000e+00 0.00000000e+00\n",
      " 0.00000000e+00 0.00000000e+00 0.00000000e+00 0.00000000e+00\n",
      " 0.00000000e+00 0.00000000e+00 0.00000000e+00 0.00000000e+00\n",
      " 0.00000000e+00 0.00000000e+00 0.00000000e+00 0.00000000e+00\n",
      " 0.00000000e+00 0.00000000e+00 0.00000000e+00 1.68719420e-04\n",
      " 0.00000000e+00 0.00000000e+00 0.00000000e+00 0.00000000e+00\n",
      " 8.33333333e-01 0.00000000e+00 0.00000000e+00 7.26005518e-05\n",
      " 0.00000000e+00 0.00000000e+00 0.00000000e+00 0.00000000e+00\n",
      " 0.00000000e+00 0.00000000e+00 0.00000000e+00 0.00000000e+00]' has dtype incompatible with int64, please explicitly cast to a compatible dtype first.\n",
      "  all_chords_matrix.update(transition_prob_matrix)\n",
      "C:\\Users\\julia\\CS4100\\final\\CS4100_Final\\utils.py:138: FutureWarning: Setting an item of incompatible dtype is deprecated and will raise in a future error of pandas. Value '[0.         0.         0.         0.         0.04817689 0.01808786\n",
      " 0.00429031 0.         0.         0.         0.01871971 0.\n",
      " 0.02428111 0.0034696  0.         0.         0.         0.\n",
      " 0.04252459 0.00809853 0.         0.00548706 0.         0.\n",
      " 0.         0.86287669 0.         0.00922027 0.         0.\n",
      " 0.         0.         0.01308901 0.02941446 0.00345699 0.        ]' has dtype incompatible with int64, please explicitly cast to a compatible dtype first.\n",
      "  all_chords_matrix.update(transition_prob_matrix)\n",
      "C:\\Users\\julia\\CS4100\\final\\CS4100_Final\\utils.py:138: FutureWarning: Setting an item of incompatible dtype is deprecated and will raise in a future error of pandas. Value '[0.00000000e+00 0.00000000e+00 0.00000000e+00 0.00000000e+00\n",
      " 1.02504027e-03 0.00000000e+00 5.05005363e-02 0.00000000e+00\n",
      " 0.00000000e+00 2.08333333e-02 5.01420692e-04 0.00000000e+00\n",
      " 7.23827071e-04 1.53869362e-02 0.00000000e+00 0.00000000e+00\n",
      " 0.00000000e+00 0.00000000e+00 1.20285856e-03 7.92981272e-03\n",
      " 0.00000000e+00 3.26514022e-02 0.00000000e+00 0.00000000e+00\n",
      " 0.00000000e+00 2.58114474e-04 0.00000000e+00 8.61695949e-01\n",
      " 0.00000000e+00 0.00000000e+00 0.00000000e+00 0.00000000e+00\n",
      " 0.00000000e+00 1.00797214e-03 4.35447414e-02 0.00000000e+00]' has dtype incompatible with int64, please explicitly cast to a compatible dtype first.\n",
      "  all_chords_matrix.update(transition_prob_matrix)\n",
      "C:\\Users\\julia\\CS4100\\final\\CS4100_Final\\utils.py:138: FutureWarning: Setting an item of incompatible dtype is deprecated and will raise in a future error of pandas. Value '[0.00000000e+00 0.00000000e+00 0.00000000e+00 0.00000000e+00\n",
      " 0.00000000e+00 0.00000000e+00 0.00000000e+00 0.00000000e+00\n",
      " 0.00000000e+00 0.00000000e+00 0.00000000e+00 0.00000000e+00\n",
      " 0.00000000e+00 1.50852316e-04 0.00000000e+00 1.34099617e-02\n",
      " 0.00000000e+00 0.00000000e+00 0.00000000e+00 0.00000000e+00\n",
      " 0.00000000e+00 0.00000000e+00 0.00000000e+00 0.00000000e+00\n",
      " 0.00000000e+00 0.00000000e+00 0.00000000e+00 0.00000000e+00\n",
      " 0.00000000e+00 0.00000000e+00 8.75000000e-01 0.00000000e+00\n",
      " 0.00000000e+00 0.00000000e+00 6.64805212e-05 0.00000000e+00]' has dtype incompatible with int64, please explicitly cast to a compatible dtype first.\n",
      "  all_chords_matrix.update(transition_prob_matrix)\n",
      "C:\\Users\\julia\\CS4100\\final\\CS4100_Final\\utils.py:138: FutureWarning: Setting an item of incompatible dtype is deprecated and will raise in a future error of pandas. Value '[0.00000000e+00 0.00000000e+00 0.00000000e+00 0.00000000e+00\n",
      " 0.00000000e+00 0.00000000e+00 0.00000000e+00 0.00000000e+00\n",
      " 0.00000000e+00 0.00000000e+00 0.00000000e+00 0.00000000e+00\n",
      " 1.31604922e-04 0.00000000e+00 0.00000000e+00 0.00000000e+00\n",
      " 0.00000000e+00 0.00000000e+00 2.90101182e-03 0.00000000e+00\n",
      " 0.00000000e+00 0.00000000e+00 0.00000000e+00 0.00000000e+00\n",
      " 0.00000000e+00 0.00000000e+00 0.00000000e+00 7.26005518e-05\n",
      " 0.00000000e+00 0.00000000e+00 0.00000000e+00 0.00000000e+00\n",
      " 8.79581152e-01 1.83267662e-04 0.00000000e+00 0.00000000e+00]' has dtype incompatible with int64, please explicitly cast to a compatible dtype first.\n",
      "  all_chords_matrix.update(transition_prob_matrix)\n",
      "C:\\Users\\julia\\CS4100\\final\\CS4100_Final\\utils.py:138: FutureWarning: Setting an item of incompatible dtype is deprecated and will raise in a future error of pandas. Value '[0.00736648 0.         0.         0.         0.01054327 0.0129199\n",
      " 0.00366464 0.         0.         0.         0.00434565 0.\n",
      " 0.02994012 0.00241364 0.         0.         0.         0.\n",
      " 0.02037784 0.00624262 0.         0.00419997 0.         0.\n",
      " 0.         0.02471446 0.         0.00522724 0.         0.\n",
      " 0.         0.         0.02094241 0.86236599 0.0020609  0.        ]' has dtype incompatible with int64, please explicitly cast to a compatible dtype first.\n",
      "  all_chords_matrix.update(transition_prob_matrix)\n",
      "C:\\Users\\julia\\CS4100\\final\\CS4100_Final\\utils.py:138: FutureWarning: Setting an item of incompatible dtype is deprecated and will raise in a future error of pandas. Value '[0.00184162 0.         0.         0.         0.00292869 0.03359173\n",
      " 0.02779764 0.         0.         0.         0.00785559 0.\n",
      " 0.0054616  0.04676422 0.         0.         0.         0.\n",
      " 0.00856152 0.01552219 0.         0.02506435 0.         0.\n",
      " 0.08333333 0.00290379 0.         0.04297953 0.         0.\n",
      " 0.         0.         0.02617801 0.00467333 0.86258476 0.        ]' has dtype incompatible with int64, please explicitly cast to a compatible dtype first.\n",
      "  all_chords_matrix.update(transition_prob_matrix)\n"
     ]
    },
    {
     "data": {
      "text/plain": "              C  Cm  Cdim  C#       C#m     C#dim         D  Dm  Ddim  \\\nC      0.863720   0     0   0  0.000000  0.000000  0.000000   0     0   \nCm     0.000000   0     0   0  0.000000  0.000000  0.000000   0     0   \nCdim   0.000000   0     0   0  0.000000  0.000000  0.000000   0     0   \nC#     0.000000   0     0   0  0.000000  0.000000  0.000000   0     0   \nC#m    0.000000   0     0   0  0.860009  0.000000  0.002489   0     0   \nC#dim  0.000000   0     0   0  0.007752  0.881137  0.005168   0     0   \nD      0.000000   0     0   0  0.002056  0.000179  0.863336   0     0   \nDm     0.000000   0     0   0  0.000000  0.000000  0.000000   0     0   \nDdim   0.000000   0     0   0  0.000000  0.000000  0.000000   0     0   \nD#     0.000000   0     0   0  0.000000  0.000000  0.062500   0     0   \nD#m    0.000000   0     0   0  0.010363  0.000000  0.005181   0     0   \nD#dim  0.000000   0     0   0  0.000000  0.000000  0.000000   0     0   \nE      0.000000   0     0   0  0.015793  0.000000  0.003882   0     0   \nEm     0.000151   0     0   0  0.001659  0.000000  0.010258   0     0   \nEdim   0.000000   0     0   0  0.000000  0.000000  0.000000   0     0   \nF      0.118774   0     0   0  0.000000  0.000000  0.003831   0     0   \nFm     0.000000   0     0   0  0.000000  0.000000  0.000000   0     0   \nFdim   0.000000   0     0   0  0.000000  0.000000  0.000000   0     0   \nF#     0.000000   0     0   0  0.011746  0.000000  0.005377   0     0   \nF#m    0.000000   0     0   0  0.002193  0.000000  0.006074   0     0   \nF#dim  0.000000   0     0   0  0.000000  0.000000  0.000000   0     0   \nG      0.000542   0     0   0  0.002168  0.000068  0.031093   0     0   \nGm     0.000000   0     0   0  0.000000  0.000000  0.000000   0     0   \nGdim   0.000000   0     0   0  0.000000  0.000000  0.000000   0     0   \nG#     0.000000   0     0   0  0.000000  0.000000  0.000000   0     0   \nG#m    0.000065   0     0   0  0.012002  0.000000  0.002194   0     0   \nG#dim  0.000000   0     0   0  0.000000  0.000000  0.000000   0     0   \nA      0.000073   0     0   0  0.002977  0.002977  0.019965   0     0   \nAm     0.000000   0     0   0  0.000000  0.000000  0.000000   0     0   \nAdim   0.000000   0     0   0  0.000000  0.000000  0.000000   0     0   \nA#     0.000000   0     0   0  0.000000  0.000000  0.013889   0     0   \nA#m    0.000000   0     0   0  0.000000  0.000000  0.000000   0     0   \nA#dim  0.000000   0     0   0  0.000000  0.000000  0.020942   0     0   \nB      0.000000   0     0   0  0.015028  0.000000  0.009530   0     0   \nBm     0.000066   0     0   0  0.000997  0.000133  0.023601   0     0   \nBdim   0.000000   0     0   0  0.000000  0.000000  0.000000   0     0   \n\n             D#  ...  G#dim         A  Am  Adim        A#  A#m     A#dim  \\\nC      0.000000  ...      0  0.000000   0     0  0.000000    0  0.000000   \nCm     0.000000  ...      0  0.000000   0     0  0.000000    0  0.000000   \nCdim   0.000000  ...      0  0.000000   0     0  0.000000    0  0.000000   \nC#     0.000000  ...      0  0.000000   0     0  0.000000    0  0.000000   \nC#m    0.000000  ...      0  0.001025   0     0  0.000000    0  0.000000   \nC#dim  0.000000  ...      0  0.000000   0     0  0.000000    0  0.000000   \nD      0.000000  ...      0  0.050501   0     0  0.000000    0  0.000000   \nDm     0.000000  ...      0  0.000000   0     0  0.000000    0  0.000000   \nDdim   0.000000  ...      0  0.000000   0     0  0.000000    0  0.000000   \nD#     0.875000  ...      0  0.020833   0     0  0.000000    0  0.000000   \nD#m    0.000000  ...      0  0.000501   0     0  0.000000    0  0.000000   \nD#dim  0.000000  ...      0  0.000000   0     0  0.000000    0  0.000000   \nE      0.000000  ...      0  0.000724   0     0  0.000000    0  0.000132   \nEm     0.000000  ...      0  0.015387   0     0  0.000151    0  0.000000   \nEdim   0.000000  ...      0  0.000000   0     0  0.000000    0  0.000000   \nF      0.000000  ...      0  0.000000   0     0  0.013410    0  0.000000   \nFm     0.000000  ...      0  0.000000   0     0  0.000000    0  0.000000   \nFdim   0.000000  ...      0  0.000000   0     0  0.000000    0  0.000000   \nF#     0.000000  ...      0  0.001203   0     0  0.000000    0  0.002901   \nF#m    0.000000  ...      0  0.007930   0     0  0.000000    0  0.000000   \nF#dim  0.000000  ...      0  0.000000   0     0  0.000000    0  0.000000   \nG      0.000000  ...      0  0.032651   0     0  0.000000    0  0.000000   \nGm     0.000000  ...      0  0.000000   0     0  0.000000    0  0.000000   \nGdim   0.000000  ...      0  0.000000   0     0  0.000000    0  0.000000   \nG#     0.000000  ...      0  0.000000   0     0  0.000000    0  0.000000   \nG#m    0.000000  ...      0  0.000258   0     0  0.000000    0  0.000000   \nG#dim  0.000000  ...      0  0.000000   0     0  0.000000    0  0.000000   \nA      0.000000  ...      0  0.861696   0     0  0.000000    0  0.000073   \nAm     0.000000  ...      0  0.000000   0     0  0.000000    0  0.000000   \nAdim   0.000000  ...      0  0.000000   0     0  0.000000    0  0.000000   \nA#     0.083333  ...      0  0.000000   0     0  0.875000    0  0.000000   \nA#m    0.000000  ...      0  0.000000   0     0  0.000000    0  0.000000   \nA#dim  0.000000  ...      0  0.000000   0     0  0.000000    0  0.879581   \nB      0.000000  ...      0  0.001008   0     0  0.000000    0  0.000183   \nBm     0.000000  ...      0  0.043545   0     0  0.000066    0  0.000000   \nBdim   0.000000  ...      0  0.000000   0     0  0.000000    0  0.000000   \n\n              B        Bm  Bdim  \nC      0.007366  0.001842     0  \nCm     0.000000  0.000000     0  \nCdim   0.000000  0.000000     0  \nC#     0.000000  0.000000     0  \nC#m    0.010543  0.002929     0  \nC#dim  0.012920  0.033592     0  \nD      0.003665  0.027798     0  \nDm     0.000000  0.000000     0  \nDdim   0.000000  0.000000     0  \nD#     0.000000  0.000000     0  \nD#m    0.004346  0.007856     0  \nD#dim  0.000000  0.000000     0  \nE      0.029940  0.005462     0  \nEm     0.002414  0.046764     0  \nEdim   0.000000  0.000000     0  \nF      0.000000  0.000000     0  \nFm     0.000000  0.000000     0  \nFdim   0.000000  0.000000     0  \nF#     0.020378  0.008562     0  \nF#m    0.006243  0.015522     0  \nF#dim  0.000000  0.000000     0  \nG      0.004200  0.025064     0  \nGm     0.000000  0.000000     0  \nGdim   0.000000  0.000000     0  \nG#     0.000000  0.083333     0  \nG#m    0.024714  0.002904     0  \nG#dim  0.000000  0.000000     0  \nA      0.005227  0.042980     0  \nAm     0.000000  0.000000     0  \nAdim   0.000000  0.000000     0  \nA#     0.000000  0.000000     0  \nA#m    0.000000  0.000000     0  \nA#dim  0.020942  0.026178     0  \nB      0.862366  0.004673     0  \nBm     0.002061  0.862585     0  \nBdim   0.000000  0.000000     0  \n\n[36 rows x 36 columns]",
      "text/html": "<div>\n<style scoped>\n    .dataframe tbody tr th:only-of-type {\n        vertical-align: middle;\n    }\n\n    .dataframe tbody tr th {\n        vertical-align: top;\n    }\n\n    .dataframe thead th {\n        text-align: right;\n    }\n</style>\n<table border=\"1\" class=\"dataframe\">\n  <thead>\n    <tr style=\"text-align: right;\">\n      <th></th>\n      <th>C</th>\n      <th>Cm</th>\n      <th>Cdim</th>\n      <th>C#</th>\n      <th>C#m</th>\n      <th>C#dim</th>\n      <th>D</th>\n      <th>Dm</th>\n      <th>Ddim</th>\n      <th>D#</th>\n      <th>...</th>\n      <th>G#dim</th>\n      <th>A</th>\n      <th>Am</th>\n      <th>Adim</th>\n      <th>A#</th>\n      <th>A#m</th>\n      <th>A#dim</th>\n      <th>B</th>\n      <th>Bm</th>\n      <th>Bdim</th>\n    </tr>\n  </thead>\n  <tbody>\n    <tr>\n      <th>C</th>\n      <td>0.863720</td>\n      <td>0</td>\n      <td>0</td>\n      <td>0</td>\n      <td>0.000000</td>\n      <td>0.000000</td>\n      <td>0.000000</td>\n      <td>0</td>\n      <td>0</td>\n      <td>0.000000</td>\n      <td>...</td>\n      <td>0</td>\n      <td>0.000000</td>\n      <td>0</td>\n      <td>0</td>\n      <td>0.000000</td>\n      <td>0</td>\n      <td>0.000000</td>\n      <td>0.007366</td>\n      <td>0.001842</td>\n      <td>0</td>\n    </tr>\n    <tr>\n      <th>Cm</th>\n      <td>0.000000</td>\n      <td>0</td>\n      <td>0</td>\n      <td>0</td>\n      <td>0.000000</td>\n      <td>0.000000</td>\n      <td>0.000000</td>\n      <td>0</td>\n      <td>0</td>\n      <td>0.000000</td>\n      <td>...</td>\n      <td>0</td>\n      <td>0.000000</td>\n      <td>0</td>\n      <td>0</td>\n      <td>0.000000</td>\n      <td>0</td>\n      <td>0.000000</td>\n      <td>0.000000</td>\n      <td>0.000000</td>\n      <td>0</td>\n    </tr>\n    <tr>\n      <th>Cdim</th>\n      <td>0.000000</td>\n      <td>0</td>\n      <td>0</td>\n      <td>0</td>\n      <td>0.000000</td>\n      <td>0.000000</td>\n      <td>0.000000</td>\n      <td>0</td>\n      <td>0</td>\n      <td>0.000000</td>\n      <td>...</td>\n      <td>0</td>\n      <td>0.000000</td>\n      <td>0</td>\n      <td>0</td>\n      <td>0.000000</td>\n      <td>0</td>\n      <td>0.000000</td>\n      <td>0.000000</td>\n      <td>0.000000</td>\n      <td>0</td>\n    </tr>\n    <tr>\n      <th>C#</th>\n      <td>0.000000</td>\n      <td>0</td>\n      <td>0</td>\n      <td>0</td>\n      <td>0.000000</td>\n      <td>0.000000</td>\n      <td>0.000000</td>\n      <td>0</td>\n      <td>0</td>\n      <td>0.000000</td>\n      <td>...</td>\n      <td>0</td>\n      <td>0.000000</td>\n      <td>0</td>\n      <td>0</td>\n      <td>0.000000</td>\n      <td>0</td>\n      <td>0.000000</td>\n      <td>0.000000</td>\n      <td>0.000000</td>\n      <td>0</td>\n    </tr>\n    <tr>\n      <th>C#m</th>\n      <td>0.000000</td>\n      <td>0</td>\n      <td>0</td>\n      <td>0</td>\n      <td>0.860009</td>\n      <td>0.000000</td>\n      <td>0.002489</td>\n      <td>0</td>\n      <td>0</td>\n      <td>0.000000</td>\n      <td>...</td>\n      <td>0</td>\n      <td>0.001025</td>\n      <td>0</td>\n      <td>0</td>\n      <td>0.000000</td>\n      <td>0</td>\n      <td>0.000000</td>\n      <td>0.010543</td>\n      <td>0.002929</td>\n      <td>0</td>\n    </tr>\n    <tr>\n      <th>C#dim</th>\n      <td>0.000000</td>\n      <td>0</td>\n      <td>0</td>\n      <td>0</td>\n      <td>0.007752</td>\n      <td>0.881137</td>\n      <td>0.005168</td>\n      <td>0</td>\n      <td>0</td>\n      <td>0.000000</td>\n      <td>...</td>\n      <td>0</td>\n      <td>0.000000</td>\n      <td>0</td>\n      <td>0</td>\n      <td>0.000000</td>\n      <td>0</td>\n      <td>0.000000</td>\n      <td>0.012920</td>\n      <td>0.033592</td>\n      <td>0</td>\n    </tr>\n    <tr>\n      <th>D</th>\n      <td>0.000000</td>\n      <td>0</td>\n      <td>0</td>\n      <td>0</td>\n      <td>0.002056</td>\n      <td>0.000179</td>\n      <td>0.863336</td>\n      <td>0</td>\n      <td>0</td>\n      <td>0.000000</td>\n      <td>...</td>\n      <td>0</td>\n      <td>0.050501</td>\n      <td>0</td>\n      <td>0</td>\n      <td>0.000000</td>\n      <td>0</td>\n      <td>0.000000</td>\n      <td>0.003665</td>\n      <td>0.027798</td>\n      <td>0</td>\n    </tr>\n    <tr>\n      <th>Dm</th>\n      <td>0.000000</td>\n      <td>0</td>\n      <td>0</td>\n      <td>0</td>\n      <td>0.000000</td>\n      <td>0.000000</td>\n      <td>0.000000</td>\n      <td>0</td>\n      <td>0</td>\n      <td>0.000000</td>\n      <td>...</td>\n      <td>0</td>\n      <td>0.000000</td>\n      <td>0</td>\n      <td>0</td>\n      <td>0.000000</td>\n      <td>0</td>\n      <td>0.000000</td>\n      <td>0.000000</td>\n      <td>0.000000</td>\n      <td>0</td>\n    </tr>\n    <tr>\n      <th>Ddim</th>\n      <td>0.000000</td>\n      <td>0</td>\n      <td>0</td>\n      <td>0</td>\n      <td>0.000000</td>\n      <td>0.000000</td>\n      <td>0.000000</td>\n      <td>0</td>\n      <td>0</td>\n      <td>0.000000</td>\n      <td>...</td>\n      <td>0</td>\n      <td>0.000000</td>\n      <td>0</td>\n      <td>0</td>\n      <td>0.000000</td>\n      <td>0</td>\n      <td>0.000000</td>\n      <td>0.000000</td>\n      <td>0.000000</td>\n      <td>0</td>\n    </tr>\n    <tr>\n      <th>D#</th>\n      <td>0.000000</td>\n      <td>0</td>\n      <td>0</td>\n      <td>0</td>\n      <td>0.000000</td>\n      <td>0.000000</td>\n      <td>0.062500</td>\n      <td>0</td>\n      <td>0</td>\n      <td>0.875000</td>\n      <td>...</td>\n      <td>0</td>\n      <td>0.020833</td>\n      <td>0</td>\n      <td>0</td>\n      <td>0.000000</td>\n      <td>0</td>\n      <td>0.000000</td>\n      <td>0.000000</td>\n      <td>0.000000</td>\n      <td>0</td>\n    </tr>\n    <tr>\n      <th>D#m</th>\n      <td>0.000000</td>\n      <td>0</td>\n      <td>0</td>\n      <td>0</td>\n      <td>0.010363</td>\n      <td>0.000000</td>\n      <td>0.005181</td>\n      <td>0</td>\n      <td>0</td>\n      <td>0.000000</td>\n      <td>...</td>\n      <td>0</td>\n      <td>0.000501</td>\n      <td>0</td>\n      <td>0</td>\n      <td>0.000000</td>\n      <td>0</td>\n      <td>0.000000</td>\n      <td>0.004346</td>\n      <td>0.007856</td>\n      <td>0</td>\n    </tr>\n    <tr>\n      <th>D#dim</th>\n      <td>0.000000</td>\n      <td>0</td>\n      <td>0</td>\n      <td>0</td>\n      <td>0.000000</td>\n      <td>0.000000</td>\n      <td>0.000000</td>\n      <td>0</td>\n      <td>0</td>\n      <td>0.000000</td>\n      <td>...</td>\n      <td>0</td>\n      <td>0.000000</td>\n      <td>0</td>\n      <td>0</td>\n      <td>0.000000</td>\n      <td>0</td>\n      <td>0.000000</td>\n      <td>0.000000</td>\n      <td>0.000000</td>\n      <td>0</td>\n    </tr>\n    <tr>\n      <th>E</th>\n      <td>0.000000</td>\n      <td>0</td>\n      <td>0</td>\n      <td>0</td>\n      <td>0.015793</td>\n      <td>0.000000</td>\n      <td>0.003882</td>\n      <td>0</td>\n      <td>0</td>\n      <td>0.000000</td>\n      <td>...</td>\n      <td>0</td>\n      <td>0.000724</td>\n      <td>0</td>\n      <td>0</td>\n      <td>0.000000</td>\n      <td>0</td>\n      <td>0.000132</td>\n      <td>0.029940</td>\n      <td>0.005462</td>\n      <td>0</td>\n    </tr>\n    <tr>\n      <th>Em</th>\n      <td>0.000151</td>\n      <td>0</td>\n      <td>0</td>\n      <td>0</td>\n      <td>0.001659</td>\n      <td>0.000000</td>\n      <td>0.010258</td>\n      <td>0</td>\n      <td>0</td>\n      <td>0.000000</td>\n      <td>...</td>\n      <td>0</td>\n      <td>0.015387</td>\n      <td>0</td>\n      <td>0</td>\n      <td>0.000151</td>\n      <td>0</td>\n      <td>0.000000</td>\n      <td>0.002414</td>\n      <td>0.046764</td>\n      <td>0</td>\n    </tr>\n    <tr>\n      <th>Edim</th>\n      <td>0.000000</td>\n      <td>0</td>\n      <td>0</td>\n      <td>0</td>\n      <td>0.000000</td>\n      <td>0.000000</td>\n      <td>0.000000</td>\n      <td>0</td>\n      <td>0</td>\n      <td>0.000000</td>\n      <td>...</td>\n      <td>0</td>\n      <td>0.000000</td>\n      <td>0</td>\n      <td>0</td>\n      <td>0.000000</td>\n      <td>0</td>\n      <td>0.000000</td>\n      <td>0.000000</td>\n      <td>0.000000</td>\n      <td>0</td>\n    </tr>\n    <tr>\n      <th>F</th>\n      <td>0.118774</td>\n      <td>0</td>\n      <td>0</td>\n      <td>0</td>\n      <td>0.000000</td>\n      <td>0.000000</td>\n      <td>0.003831</td>\n      <td>0</td>\n      <td>0</td>\n      <td>0.000000</td>\n      <td>...</td>\n      <td>0</td>\n      <td>0.000000</td>\n      <td>0</td>\n      <td>0</td>\n      <td>0.013410</td>\n      <td>0</td>\n      <td>0.000000</td>\n      <td>0.000000</td>\n      <td>0.000000</td>\n      <td>0</td>\n    </tr>\n    <tr>\n      <th>Fm</th>\n      <td>0.000000</td>\n      <td>0</td>\n      <td>0</td>\n      <td>0</td>\n      <td>0.000000</td>\n      <td>0.000000</td>\n      <td>0.000000</td>\n      <td>0</td>\n      <td>0</td>\n      <td>0.000000</td>\n      <td>...</td>\n      <td>0</td>\n      <td>0.000000</td>\n      <td>0</td>\n      <td>0</td>\n      <td>0.000000</td>\n      <td>0</td>\n      <td>0.000000</td>\n      <td>0.000000</td>\n      <td>0.000000</td>\n      <td>0</td>\n    </tr>\n    <tr>\n      <th>Fdim</th>\n      <td>0.000000</td>\n      <td>0</td>\n      <td>0</td>\n      <td>0</td>\n      <td>0.000000</td>\n      <td>0.000000</td>\n      <td>0.000000</td>\n      <td>0</td>\n      <td>0</td>\n      <td>0.000000</td>\n      <td>...</td>\n      <td>0</td>\n      <td>0.000000</td>\n      <td>0</td>\n      <td>0</td>\n      <td>0.000000</td>\n      <td>0</td>\n      <td>0.000000</td>\n      <td>0.000000</td>\n      <td>0.000000</td>\n      <td>0</td>\n    </tr>\n    <tr>\n      <th>F#</th>\n      <td>0.000000</td>\n      <td>0</td>\n      <td>0</td>\n      <td>0</td>\n      <td>0.011746</td>\n      <td>0.000000</td>\n      <td>0.005377</td>\n      <td>0</td>\n      <td>0</td>\n      <td>0.000000</td>\n      <td>...</td>\n      <td>0</td>\n      <td>0.001203</td>\n      <td>0</td>\n      <td>0</td>\n      <td>0.000000</td>\n      <td>0</td>\n      <td>0.002901</td>\n      <td>0.020378</td>\n      <td>0.008562</td>\n      <td>0</td>\n    </tr>\n    <tr>\n      <th>F#m</th>\n      <td>0.000000</td>\n      <td>0</td>\n      <td>0</td>\n      <td>0</td>\n      <td>0.002193</td>\n      <td>0.000000</td>\n      <td>0.006074</td>\n      <td>0</td>\n      <td>0</td>\n      <td>0.000000</td>\n      <td>...</td>\n      <td>0</td>\n      <td>0.007930</td>\n      <td>0</td>\n      <td>0</td>\n      <td>0.000000</td>\n      <td>0</td>\n      <td>0.000000</td>\n      <td>0.006243</td>\n      <td>0.015522</td>\n      <td>0</td>\n    </tr>\n    <tr>\n      <th>F#dim</th>\n      <td>0.000000</td>\n      <td>0</td>\n      <td>0</td>\n      <td>0</td>\n      <td>0.000000</td>\n      <td>0.000000</td>\n      <td>0.000000</td>\n      <td>0</td>\n      <td>0</td>\n      <td>0.000000</td>\n      <td>...</td>\n      <td>0</td>\n      <td>0.000000</td>\n      <td>0</td>\n      <td>0</td>\n      <td>0.000000</td>\n      <td>0</td>\n      <td>0.000000</td>\n      <td>0.000000</td>\n      <td>0.000000</td>\n      <td>0</td>\n    </tr>\n    <tr>\n      <th>G</th>\n      <td>0.000542</td>\n      <td>0</td>\n      <td>0</td>\n      <td>0</td>\n      <td>0.002168</td>\n      <td>0.000068</td>\n      <td>0.031093</td>\n      <td>0</td>\n      <td>0</td>\n      <td>0.000000</td>\n      <td>...</td>\n      <td>0</td>\n      <td>0.032651</td>\n      <td>0</td>\n      <td>0</td>\n      <td>0.000000</td>\n      <td>0</td>\n      <td>0.000000</td>\n      <td>0.004200</td>\n      <td>0.025064</td>\n      <td>0</td>\n    </tr>\n    <tr>\n      <th>Gm</th>\n      <td>0.000000</td>\n      <td>0</td>\n      <td>0</td>\n      <td>0</td>\n      <td>0.000000</td>\n      <td>0.000000</td>\n      <td>0.000000</td>\n      <td>0</td>\n      <td>0</td>\n      <td>0.000000</td>\n      <td>...</td>\n      <td>0</td>\n      <td>0.000000</td>\n      <td>0</td>\n      <td>0</td>\n      <td>0.000000</td>\n      <td>0</td>\n      <td>0.000000</td>\n      <td>0.000000</td>\n      <td>0.000000</td>\n      <td>0</td>\n    </tr>\n    <tr>\n      <th>Gdim</th>\n      <td>0.000000</td>\n      <td>0</td>\n      <td>0</td>\n      <td>0</td>\n      <td>0.000000</td>\n      <td>0.000000</td>\n      <td>0.000000</td>\n      <td>0</td>\n      <td>0</td>\n      <td>0.000000</td>\n      <td>...</td>\n      <td>0</td>\n      <td>0.000000</td>\n      <td>0</td>\n      <td>0</td>\n      <td>0.000000</td>\n      <td>0</td>\n      <td>0.000000</td>\n      <td>0.000000</td>\n      <td>0.000000</td>\n      <td>0</td>\n    </tr>\n    <tr>\n      <th>G#</th>\n      <td>0.000000</td>\n      <td>0</td>\n      <td>0</td>\n      <td>0</td>\n      <td>0.000000</td>\n      <td>0.000000</td>\n      <td>0.000000</td>\n      <td>0</td>\n      <td>0</td>\n      <td>0.000000</td>\n      <td>...</td>\n      <td>0</td>\n      <td>0.000000</td>\n      <td>0</td>\n      <td>0</td>\n      <td>0.000000</td>\n      <td>0</td>\n      <td>0.000000</td>\n      <td>0.000000</td>\n      <td>0.083333</td>\n      <td>0</td>\n    </tr>\n    <tr>\n      <th>G#m</th>\n      <td>0.000065</td>\n      <td>0</td>\n      <td>0</td>\n      <td>0</td>\n      <td>0.012002</td>\n      <td>0.000000</td>\n      <td>0.002194</td>\n      <td>0</td>\n      <td>0</td>\n      <td>0.000000</td>\n      <td>...</td>\n      <td>0</td>\n      <td>0.000258</td>\n      <td>0</td>\n      <td>0</td>\n      <td>0.000000</td>\n      <td>0</td>\n      <td>0.000000</td>\n      <td>0.024714</td>\n      <td>0.002904</td>\n      <td>0</td>\n    </tr>\n    <tr>\n      <th>G#dim</th>\n      <td>0.000000</td>\n      <td>0</td>\n      <td>0</td>\n      <td>0</td>\n      <td>0.000000</td>\n      <td>0.000000</td>\n      <td>0.000000</td>\n      <td>0</td>\n      <td>0</td>\n      <td>0.000000</td>\n      <td>...</td>\n      <td>0</td>\n      <td>0.000000</td>\n      <td>0</td>\n      <td>0</td>\n      <td>0.000000</td>\n      <td>0</td>\n      <td>0.000000</td>\n      <td>0.000000</td>\n      <td>0.000000</td>\n      <td>0</td>\n    </tr>\n    <tr>\n      <th>A</th>\n      <td>0.000073</td>\n      <td>0</td>\n      <td>0</td>\n      <td>0</td>\n      <td>0.002977</td>\n      <td>0.002977</td>\n      <td>0.019965</td>\n      <td>0</td>\n      <td>0</td>\n      <td>0.000000</td>\n      <td>...</td>\n      <td>0</td>\n      <td>0.861696</td>\n      <td>0</td>\n      <td>0</td>\n      <td>0.000000</td>\n      <td>0</td>\n      <td>0.000073</td>\n      <td>0.005227</td>\n      <td>0.042980</td>\n      <td>0</td>\n    </tr>\n    <tr>\n      <th>Am</th>\n      <td>0.000000</td>\n      <td>0</td>\n      <td>0</td>\n      <td>0</td>\n      <td>0.000000</td>\n      <td>0.000000</td>\n      <td>0.000000</td>\n      <td>0</td>\n      <td>0</td>\n      <td>0.000000</td>\n      <td>...</td>\n      <td>0</td>\n      <td>0.000000</td>\n      <td>0</td>\n      <td>0</td>\n      <td>0.000000</td>\n      <td>0</td>\n      <td>0.000000</td>\n      <td>0.000000</td>\n      <td>0.000000</td>\n      <td>0</td>\n    </tr>\n    <tr>\n      <th>Adim</th>\n      <td>0.000000</td>\n      <td>0</td>\n      <td>0</td>\n      <td>0</td>\n      <td>0.000000</td>\n      <td>0.000000</td>\n      <td>0.000000</td>\n      <td>0</td>\n      <td>0</td>\n      <td>0.000000</td>\n      <td>...</td>\n      <td>0</td>\n      <td>0.000000</td>\n      <td>0</td>\n      <td>0</td>\n      <td>0.000000</td>\n      <td>0</td>\n      <td>0.000000</td>\n      <td>0.000000</td>\n      <td>0.000000</td>\n      <td>0</td>\n    </tr>\n    <tr>\n      <th>A#</th>\n      <td>0.000000</td>\n      <td>0</td>\n      <td>0</td>\n      <td>0</td>\n      <td>0.000000</td>\n      <td>0.000000</td>\n      <td>0.013889</td>\n      <td>0</td>\n      <td>0</td>\n      <td>0.083333</td>\n      <td>...</td>\n      <td>0</td>\n      <td>0.000000</td>\n      <td>0</td>\n      <td>0</td>\n      <td>0.875000</td>\n      <td>0</td>\n      <td>0.000000</td>\n      <td>0.000000</td>\n      <td>0.000000</td>\n      <td>0</td>\n    </tr>\n    <tr>\n      <th>A#m</th>\n      <td>0.000000</td>\n      <td>0</td>\n      <td>0</td>\n      <td>0</td>\n      <td>0.000000</td>\n      <td>0.000000</td>\n      <td>0.000000</td>\n      <td>0</td>\n      <td>0</td>\n      <td>0.000000</td>\n      <td>...</td>\n      <td>0</td>\n      <td>0.000000</td>\n      <td>0</td>\n      <td>0</td>\n      <td>0.000000</td>\n      <td>0</td>\n      <td>0.000000</td>\n      <td>0.000000</td>\n      <td>0.000000</td>\n      <td>0</td>\n    </tr>\n    <tr>\n      <th>A#dim</th>\n      <td>0.000000</td>\n      <td>0</td>\n      <td>0</td>\n      <td>0</td>\n      <td>0.000000</td>\n      <td>0.000000</td>\n      <td>0.020942</td>\n      <td>0</td>\n      <td>0</td>\n      <td>0.000000</td>\n      <td>...</td>\n      <td>0</td>\n      <td>0.000000</td>\n      <td>0</td>\n      <td>0</td>\n      <td>0.000000</td>\n      <td>0</td>\n      <td>0.879581</td>\n      <td>0.020942</td>\n      <td>0.026178</td>\n      <td>0</td>\n    </tr>\n    <tr>\n      <th>B</th>\n      <td>0.000000</td>\n      <td>0</td>\n      <td>0</td>\n      <td>0</td>\n      <td>0.015028</td>\n      <td>0.000000</td>\n      <td>0.009530</td>\n      <td>0</td>\n      <td>0</td>\n      <td>0.000000</td>\n      <td>...</td>\n      <td>0</td>\n      <td>0.001008</td>\n      <td>0</td>\n      <td>0</td>\n      <td>0.000000</td>\n      <td>0</td>\n      <td>0.000183</td>\n      <td>0.862366</td>\n      <td>0.004673</td>\n      <td>0</td>\n    </tr>\n    <tr>\n      <th>Bm</th>\n      <td>0.000066</td>\n      <td>0</td>\n      <td>0</td>\n      <td>0</td>\n      <td>0.000997</td>\n      <td>0.000133</td>\n      <td>0.023601</td>\n      <td>0</td>\n      <td>0</td>\n      <td>0.000000</td>\n      <td>...</td>\n      <td>0</td>\n      <td>0.043545</td>\n      <td>0</td>\n      <td>0</td>\n      <td>0.000066</td>\n      <td>0</td>\n      <td>0.000000</td>\n      <td>0.002061</td>\n      <td>0.862585</td>\n      <td>0</td>\n    </tr>\n    <tr>\n      <th>Bdim</th>\n      <td>0.000000</td>\n      <td>0</td>\n      <td>0</td>\n      <td>0</td>\n      <td>0.000000</td>\n      <td>0.000000</td>\n      <td>0.000000</td>\n      <td>0</td>\n      <td>0</td>\n      <td>0.000000</td>\n      <td>...</td>\n      <td>0</td>\n      <td>0.000000</td>\n      <td>0</td>\n      <td>0</td>\n      <td>0.000000</td>\n      <td>0</td>\n      <td>0.000000</td>\n      <td>0.000000</td>\n      <td>0.000000</td>\n      <td>0</td>\n    </tr>\n  </tbody>\n</table>\n<p>36 rows × 36 columns</p>\n</div>"
     },
     "execution_count": 17,
     "metadata": {},
     "output_type": "execute_result"
    }
   ],
   "source": [
    "transition_prob_matrix = calculate_transition_probabilites(chromagram)\n",
    "transition_prob_matrix"
   ]
  },
  {
   "cell_type": "markdown",
   "metadata": {},
   "source": [
    "###### Mu Value:"
   ]
  },
  {
   "cell_type": "code",
   "execution_count": 18,
   "metadata": {
    "ExecuteTime": {
     "end_time": "2024-04-05T17:53:49.529946100Z",
     "start_time": "2024-04-05T17:53:49.361825700Z"
    }
   },
   "outputs": [
    {
     "data": {
      "text/plain": "C     11.904212\nC#    37.005563\nD     24.903218\nD#    34.195783\nE     29.047999\nF     16.589156\nF#    44.361431\nG     16.893884\nG#    40.504631\nA     21.644234\nA#    24.957070\nB     49.421869\ndtype: float64"
     },
     "execution_count": 18,
     "metadata": {},
     "output_type": "execute_result"
    }
   ],
   "source": [
    "mu = calculate_mu_from_chroma(chromagram)\n",
    "mu"
   ]
  },
  {
   "cell_type": "markdown",
   "metadata": {},
   "source": [
    "###### Emission Matrix:"
   ]
  },
  {
   "cell_type": "code",
   "execution_count": 19,
   "metadata": {
    "ExecuteTime": {
     "end_time": "2024-04-05T17:53:49.806572600Z",
     "start_time": "2024-04-05T17:53:49.415286400Z"
    }
   },
   "outputs": [],
   "source": [
    "emission = calculate_emission_from_chroma(chromagram)"
   ]
  },
  {
   "cell_type": "code",
   "execution_count": 20,
   "metadata": {
    "ExecuteTime": {
     "end_time": "2024-04-05T17:53:49.808581100Z",
     "start_time": "2024-04-05T17:53:49.582687Z"
    }
   },
   "outputs": [
    {
     "data": {
      "text/plain": "array([[[ 3.13367466e+02, -1.88800695e+02,  2.64736262e+01, ...,\n          2.03685460e+02, -7.46557983e+01, -5.76122604e+00],\n        [-1.88800695e+02,  4.47333848e+03, -3.60546766e+02, ...,\n         -9.30727428e+02,  9.02402408e+02, -2.84120039e+01],\n        [ 2.64736262e+01, -3.60546766e+02,  8.75890355e+02, ...,\n          5.99662549e+02, -3.27588935e+02, -6.03967268e+01],\n        ...,\n        [ 2.03685460e+02, -9.30727428e+02,  5.99662549e+02, ...,\n          7.49036906e+03, -2.48532835e+03,  3.64302030e+02],\n        [-7.46557983e+01,  9.02402408e+02, -3.27588935e+02, ...,\n         -2.48532835e+03,  3.45092607e+03, -3.39876346e+02],\n        [-5.76122604e+00, -2.84120039e+01, -6.03967268e+01, ...,\n          3.64302030e+02, -3.39876346e+02,  1.72032314e+03]],\n\n       [[ 9.24619718e+02,  0.00000000e+00, -5.21126761e+02, ...,\n         -7.07380282e+02,  8.80338028e+02, -4.37483568e+02],\n        [ 0.00000000e+00,  0.00000000e+00,  0.00000000e+00, ...,\n          0.00000000e+00,  0.00000000e+00,  0.00000000e+00],\n        [-5.21126761e+02,  0.00000000e+00,  1.05645070e+03, ...,\n          7.39943662e+02,  4.97239437e+02, -5.09220657e+02],\n        ...,\n        [-7.07380282e+02,  0.00000000e+00,  7.39943662e+02, ...,\n          1.38343662e+03,  1.90535211e+02, -7.82723005e+01],\n        [ 8.80338028e+02,  0.00000000e+00,  4.97239437e+02, ...,\n          1.90535211e+02,  3.08259155e+03, -1.53802817e+03],\n        [-4.37483568e+02,  0.00000000e+00, -5.09220657e+02, ...,\n         -7.82723005e+01, -1.53802817e+03,  1.05707668e+03]],\n\n       [[ 1.60257998e+03,  0.00000000e+00,  8.06928859e+01, ...,\n         -3.66730703e+01,  1.32624644e+02, -1.72138901e+01],\n        [ 0.00000000e+00,  0.00000000e+00,  0.00000000e+00, ...,\n          0.00000000e+00,  0.00000000e+00,  0.00000000e+00],\n        [ 8.06928859e+01,  0.00000000e+00,  4.10081442e+03, ...,\n          3.24035234e+02,  1.36042991e+03, -1.52089156e+01],\n        ...,\n        [-3.66730703e+01,  0.00000000e+00,  3.24035234e+02, ...,\n          7.89742287e+02,  6.68173860e+01, -7.92931250e+00],\n        [ 1.32624644e+02,  0.00000000e+00,  1.36042991e+03, ...,\n          6.68173860e+01,  8.18085248e+03, -2.77718102e+02],\n        [-1.72138901e+01,  0.00000000e+00, -1.52089156e+01, ...,\n         -7.92931250e+00, -2.77718102e+02,  8.53069492e+01]],\n\n       ...,\n\n       [[ 0.00000000e+00,  0.00000000e+00,  0.00000000e+00, ...,\n          0.00000000e+00,  0.00000000e+00,  0.00000000e+00],\n        [ 0.00000000e+00,  2.42424242e+01,  0.00000000e+00, ...,\n          0.00000000e+00,  3.39393939e+01,  0.00000000e+00],\n        [ 0.00000000e+00,  0.00000000e+00,  0.00000000e+00, ...,\n          0.00000000e+00,  0.00000000e+00,  0.00000000e+00],\n        ...,\n        [ 0.00000000e+00,  0.00000000e+00,  0.00000000e+00, ...,\n          0.00000000e+00,  0.00000000e+00,  0.00000000e+00],\n        [ 0.00000000e+00,  3.39393939e+01,  0.00000000e+00, ...,\n          0.00000000e+00,  4.75151515e+01,  0.00000000e+00],\n        [ 0.00000000e+00,  0.00000000e+00,  0.00000000e+00, ...,\n          0.00000000e+00,  0.00000000e+00,  0.00000000e+00]],\n\n       [[ 3.54202883e+03, -1.51821078e+02,  0.00000000e+00, ...,\n          8.28035032e+01, -7.41507061e+01, -1.73892693e+03],\n        [-1.51821078e+02,  5.87022655e+02,  0.00000000e+00, ...,\n         -9.07835593e+00,  3.38746619e+01, -8.87615215e+01],\n        [ 0.00000000e+00,  0.00000000e+00,  0.00000000e+00, ...,\n          0.00000000e+00,  0.00000000e+00,  0.00000000e+00],\n        ...,\n        [ 8.28035032e+01, -9.07835593e+00,  0.00000000e+00, ...,\n          2.47243557e+02,  7.41892007e+00, -7.64991821e+01],\n        [-7.41507061e+01,  3.38746619e+01,  0.00000000e+00, ...,\n          7.41892007e+00,  1.16766347e+03, -2.01083781e+01],\n        [-1.73892693e+03, -8.87615215e+01,  0.00000000e+00, ...,\n         -7.64991821e+01, -2.01083781e+01,  4.00306317e+03]],\n\n       [[ 0.00000000e+00,  0.00000000e+00,  0.00000000e+00, ...,\n          0.00000000e+00,  0.00000000e+00,  0.00000000e+00],\n        [ 0.00000000e+00,  5.91873016e+02,  0.00000000e+00, ...,\n          6.83174603e+02, -2.67911111e+02, -4.47085714e+02],\n        [ 0.00000000e+00,  0.00000000e+00,  0.00000000e+00, ...,\n          0.00000000e+00,  0.00000000e+00,  0.00000000e+00],\n        ...,\n        [ 0.00000000e+00,  6.83174603e+02,  0.00000000e+00, ...,\n          1.77777778e+03, -1.37650794e+03,  2.05714286e+02],\n        [ 0.00000000e+00, -2.67911111e+02,  0.00000000e+00, ...,\n         -1.37650794e+03,  1.38257778e+03, -7.92457143e+02],\n        [ 0.00000000e+00, -4.47085714e+02,  0.00000000e+00, ...,\n          2.05714286e+02, -7.92457143e+02,  1.28960000e+03]]])"
     },
     "execution_count": 20,
     "metadata": {},
     "output_type": "execute_result"
    }
   ],
   "source": [
    "emission"
   ]
  },
  {
   "cell_type": "code",
   "execution_count": 25,
   "metadata": {
    "ExecuteTime": {
     "end_time": "2024-04-05T17:55:32.257000600Z",
     "start_time": "2024-04-05T17:55:32.213111400Z"
    }
   },
   "outputs": [
    {
     "name": "stdout",
     "output_type": "stream",
     "text": [
      "(36, 36)\n",
      "(15,)\n"
     ]
    }
   ],
   "source": [
    "model = hmm.GaussianHMM(n_components=transition_prob_matrix.shape[0], covariance_type=\"Full\")\n",
    "print(transition_prob_matrix.shape)\n",
    "print(initial_state_probabilties.shape)\n",
    "model.startprob_ = initial_state_probabilties\n",
    "model.transmat_ = transition_prob_matrix.values\n",
    "model.means_ = mu"
   ]
  },
  {
   "cell_type": "code",
   "execution_count": 26,
   "outputs": [
    {
     "ename": "ValueError",
     "evalue": "startprob_ must have length n_components",
     "output_type": "error",
     "traceback": [
      "\u001B[1;31m---------------------------------------------------------------------------\u001B[0m",
      "\u001B[1;31mValueError\u001B[0m                                Traceback (most recent call last)",
      "Cell \u001B[1;32mIn[26], line 1\u001B[0m\n\u001B[1;32m----> 1\u001B[0m chroma_with_preds \u001B[38;5;241m=\u001B[39m \u001B[43mpredict\u001B[49m\u001B[43m(\u001B[49m\u001B[43mtransition_prob_matrix\u001B[49m\u001B[43m,\u001B[49m\u001B[43m \u001B[49m\u001B[43mmodel\u001B[49m\u001B[43m,\u001B[49m\u001B[43m \u001B[49m\u001B[43mmu\u001B[49m\u001B[43m)\u001B[49m\n",
      "File \u001B[1;32m~\\CS4100\\final\\CS4100_Final\\utils.py:191\u001B[0m, in \u001B[0;36mpredict\u001B[1;34m(pcp, model, mu)\u001B[0m\n\u001B[0;32m    185\u001B[0m \u001B[38;5;28;01mdef\u001B[39;00m \u001B[38;5;21mpredict\u001B[39m(pcp, model, mu):\n\u001B[0;32m    186\u001B[0m \u001B[38;5;250m    \u001B[39m\u001B[38;5;124;03m\"\"\"\u001B[39;00m\n\u001B[0;32m    187\u001B[0m \u001B[38;5;124;03m    :param pcp: chroma\u001B[39;00m\n\u001B[0;32m    188\u001B[0m \u001B[38;5;124;03m    :param model: the hmm model\u001B[39;00m\n\u001B[0;32m    189\u001B[0m \u001B[38;5;124;03m    :return: the pcp, with a column with the predicted chords\u001B[39;00m\n\u001B[0;32m    190\u001B[0m \u001B[38;5;124;03m    \"\"\"\u001B[39;00m\n\u001B[1;32m--> 191\u001B[0m     preds \u001B[38;5;241m=\u001B[39m \u001B[43mmodel\u001B[49m\u001B[38;5;241;43m.\u001B[39;49m\u001B[43mpredict\u001B[49m\u001B[43m(\u001B[49m\u001B[43mpcp\u001B[49m\u001B[43m)\u001B[49m\n\u001B[0;32m    193\u001B[0m     chords \u001B[38;5;241m=\u001B[39m mu\u001B[38;5;241m.\u001B[39mindex\u001B[38;5;241m.\u001B[39mvalues\n\u001B[0;32m    194\u001B[0m     chord_idxs \u001B[38;5;241m=\u001B[39m \u001B[38;5;28mrange\u001B[39m(\u001B[38;5;28mlen\u001B[39m(mu\u001B[38;5;241m.\u001B[39mindex\u001B[38;5;241m.\u001B[39mvalues))\n",
      "File \u001B[1;32m~\\CS4100\\final\\CS4100_Final\\venv\\lib\\site-packages\\hmmlearn\\base.py:375\u001B[0m, in \u001B[0;36m_AbstractHMM.predict\u001B[1;34m(self, X, lengths)\u001B[0m\n\u001B[0;32m    358\u001B[0m \u001B[38;5;28;01mdef\u001B[39;00m \u001B[38;5;21mpredict\u001B[39m(\u001B[38;5;28mself\u001B[39m, X, lengths\u001B[38;5;241m=\u001B[39m\u001B[38;5;28;01mNone\u001B[39;00m):\n\u001B[0;32m    359\u001B[0m \u001B[38;5;250m    \u001B[39m\u001B[38;5;124;03m\"\"\"\u001B[39;00m\n\u001B[0;32m    360\u001B[0m \u001B[38;5;124;03m    Find most likely state sequence corresponding to ``X``.\u001B[39;00m\n\u001B[0;32m    361\u001B[0m \n\u001B[1;32m   (...)\u001B[0m\n\u001B[0;32m    373\u001B[0m \u001B[38;5;124;03m        Labels for each sample from ``X``.\u001B[39;00m\n\u001B[0;32m    374\u001B[0m \u001B[38;5;124;03m    \"\"\"\u001B[39;00m\n\u001B[1;32m--> 375\u001B[0m     _, state_sequence \u001B[38;5;241m=\u001B[39m \u001B[38;5;28;43mself\u001B[39;49m\u001B[38;5;241;43m.\u001B[39;49m\u001B[43mdecode\u001B[49m\u001B[43m(\u001B[49m\u001B[43mX\u001B[49m\u001B[43m,\u001B[49m\u001B[43m \u001B[49m\u001B[43mlengths\u001B[49m\u001B[43m)\u001B[49m\n\u001B[0;32m    376\u001B[0m     \u001B[38;5;28;01mreturn\u001B[39;00m state_sequence\n",
      "File \u001B[1;32m~\\CS4100\\final\\CS4100_Final\\venv\\lib\\site-packages\\hmmlearn\\base.py:336\u001B[0m, in \u001B[0;36m_AbstractHMM.decode\u001B[1;34m(self, X, lengths, algorithm)\u001B[0m\n\u001B[0;32m    301\u001B[0m \u001B[38;5;250m\u001B[39m\u001B[38;5;124;03m\"\"\"\u001B[39;00m\n\u001B[0;32m    302\u001B[0m \u001B[38;5;124;03mFind most likely state sequence corresponding to ``X``.\u001B[39;00m\n\u001B[0;32m    303\u001B[0m \n\u001B[1;32m   (...)\u001B[0m\n\u001B[0;32m    333\u001B[0m \u001B[38;5;124;03mscore : Compute the log probability under the model.\u001B[39;00m\n\u001B[0;32m    334\u001B[0m \u001B[38;5;124;03m\"\"\"\u001B[39;00m\n\u001B[0;32m    335\u001B[0m check_is_fitted(\u001B[38;5;28mself\u001B[39m, \u001B[38;5;124m\"\u001B[39m\u001B[38;5;124mstartprob_\u001B[39m\u001B[38;5;124m\"\u001B[39m)\n\u001B[1;32m--> 336\u001B[0m \u001B[38;5;28;43mself\u001B[39;49m\u001B[38;5;241;43m.\u001B[39;49m\u001B[43m_check\u001B[49m\u001B[43m(\u001B[49m\u001B[43m)\u001B[49m\n\u001B[0;32m    338\u001B[0m algorithm \u001B[38;5;241m=\u001B[39m algorithm \u001B[38;5;129;01mor\u001B[39;00m \u001B[38;5;28mself\u001B[39m\u001B[38;5;241m.\u001B[39malgorithm\n\u001B[0;32m    339\u001B[0m \u001B[38;5;28;01mif\u001B[39;00m algorithm \u001B[38;5;129;01mnot\u001B[39;00m \u001B[38;5;129;01min\u001B[39;00m DECODER_ALGORITHMS:\n",
      "File \u001B[1;32m~\\CS4100\\final\\CS4100_Final\\venv\\lib\\site-packages\\hmmlearn\\hmm.py:325\u001B[0m, in \u001B[0;36mGaussianHMM._check\u001B[1;34m(self)\u001B[0m\n\u001B[0;32m    324\u001B[0m \u001B[38;5;28;01mdef\u001B[39;00m \u001B[38;5;21m_check\u001B[39m(\u001B[38;5;28mself\u001B[39m):\n\u001B[1;32m--> 325\u001B[0m     \u001B[38;5;28;43msuper\u001B[39;49m\u001B[43m(\u001B[49m\u001B[43m)\u001B[49m\u001B[38;5;241;43m.\u001B[39;49m\u001B[43m_check\u001B[49m\u001B[43m(\u001B[49m\u001B[43m)\u001B[49m\n\u001B[0;32m    327\u001B[0m     \u001B[38;5;28mself\u001B[39m\u001B[38;5;241m.\u001B[39mmeans_ \u001B[38;5;241m=\u001B[39m np\u001B[38;5;241m.\u001B[39masarray(\u001B[38;5;28mself\u001B[39m\u001B[38;5;241m.\u001B[39mmeans_)\n\u001B[0;32m    328\u001B[0m     \u001B[38;5;28mself\u001B[39m\u001B[38;5;241m.\u001B[39mn_features \u001B[38;5;241m=\u001B[39m \u001B[38;5;28mself\u001B[39m\u001B[38;5;241m.\u001B[39mmeans_\u001B[38;5;241m.\u001B[39mshape[\u001B[38;5;241m1\u001B[39m]\n",
      "File \u001B[1;32m~\\CS4100\\final\\CS4100_Final\\venv\\lib\\site-packages\\hmmlearn\\base.py:970\u001B[0m, in \u001B[0;36mBaseHMM._check\u001B[1;34m(self)\u001B[0m\n\u001B[0;32m    968\u001B[0m \u001B[38;5;28mself\u001B[39m\u001B[38;5;241m.\u001B[39mstartprob_ \u001B[38;5;241m=\u001B[39m np\u001B[38;5;241m.\u001B[39masarray(\u001B[38;5;28mself\u001B[39m\u001B[38;5;241m.\u001B[39mstartprob_)\n\u001B[0;32m    969\u001B[0m \u001B[38;5;28;01mif\u001B[39;00m \u001B[38;5;28mlen\u001B[39m(\u001B[38;5;28mself\u001B[39m\u001B[38;5;241m.\u001B[39mstartprob_) \u001B[38;5;241m!=\u001B[39m \u001B[38;5;28mself\u001B[39m\u001B[38;5;241m.\u001B[39mn_components:\n\u001B[1;32m--> 970\u001B[0m     \u001B[38;5;28;01mraise\u001B[39;00m \u001B[38;5;167;01mValueError\u001B[39;00m(\u001B[38;5;124m\"\u001B[39m\u001B[38;5;124mstartprob_ must have length n_components\u001B[39m\u001B[38;5;124m\"\u001B[39m)\n\u001B[0;32m    971\u001B[0m \u001B[38;5;28mself\u001B[39m\u001B[38;5;241m.\u001B[39m_check_sum_1(\u001B[38;5;124m\"\u001B[39m\u001B[38;5;124mstartprob_\u001B[39m\u001B[38;5;124m\"\u001B[39m)\n\u001B[0;32m    973\u001B[0m \u001B[38;5;28mself\u001B[39m\u001B[38;5;241m.\u001B[39mtransmat_ \u001B[38;5;241m=\u001B[39m np\u001B[38;5;241m.\u001B[39masarray(\u001B[38;5;28mself\u001B[39m\u001B[38;5;241m.\u001B[39mtransmat_)\n",
      "\u001B[1;31mValueError\u001B[0m: startprob_ must have length n_components"
     ]
    }
   ],
   "source": [
    "chroma_with_preds = predict(transition_prob_matrix, model, mu)"
   ],
   "metadata": {
    "collapsed": false,
    "ExecuteTime": {
     "end_time": "2024-04-05T17:55:33.230551Z",
     "start_time": "2024-04-05T17:55:33.098223800Z"
    }
   }
  },
  {
   "cell_type": "code",
   "execution_count": null,
   "outputs": [],
   "source": [],
   "metadata": {
    "collapsed": false
   }
  }
 ],
 "metadata": {
  "kernelspec": {
   "display_name": ".venv",
   "language": "python",
   "name": "python3"
  },
  "language_info": {
   "codemirror_mode": {
    "name": "ipython",
    "version": 3
   },
   "file_extension": ".py",
   "mimetype": "text/x-python",
   "name": "python",
   "nbconvert_exporter": "python",
   "pygments_lexer": "ipython3",
   "version": "3.11.5"
  }
 },
 "nbformat": 4,
 "nbformat_minor": 2
}
