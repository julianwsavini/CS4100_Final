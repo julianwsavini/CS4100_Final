{
 "cells": [
  {
   "cell_type": "markdown",
   "metadata": {},
   "source": [
    "##### Imports:"
   ]
  },
  {
   "cell_type": "code",
   "execution_count": 1,
   "metadata": {},
   "outputs": [],
   "source": [
    "from utils import separate_for_training, preprocess, calculate_emission_from_chroma, calculate_mu_from_chroma, calculate_transition_probabilites\n",
    "import pickle\n",
    "from chroma import get_chromagram\n",
    "import pandas as pd\n",
    "from tqdm import tqdm\n",
    "import numpy as np"
   ]
  },
  {
   "cell_type": "markdown",
   "metadata": {},
   "source": [
    "##### Steps:"
   ]
  },
  {
   "cell_type": "markdown",
   "metadata": {},
   "source": [
    "1. Training / Testing Data Split\n",
    "2. Create Chromagram from Training Data\n",
    "3. Create HMM Initialization Components\n",
    "    - Initial State Probabilities\n",
    "    - Transition Probability Matrix\n",
    "    - Mu Value\n",
    "    - Emission Matrix\n",
    "4. Create HMM Object\n",
    "5. Fit / Train HMM"
   ]
  },
  {
   "cell_type": "markdown",
   "metadata": {},
   "source": [
    "##### Training / Test Data Split:"
   ]
  },
  {
   "cell_type": "code",
   "execution_count": 2,
   "metadata": {},
   "outputs": [
    {
     "name": "stderr",
     "output_type": "stream",
     "text": [
      "100%|██████████| 5762/5762 [00:02<00:00, 2050.53it/s]\n"
     ]
    }
   ],
   "source": [
    "# Load data and split into training and test\n",
    "piece_name_dict = preprocess('dataset.pkl')\n",
    "\n",
    "training_piece_names, _, test_piece_names = separate_for_training(piece_name_dict, 0.8, 0.)\n",
    "\n",
    "with open(r\"dataset.pkl\", 'rb') as data:\n",
    "    midi_data = pickle.load(data)"
   ]
  },
  {
   "cell_type": "markdown",
   "metadata": {},
   "source": [
    "##### Create Chromagram from Training Data:"
   ]
  },
  {
   "cell_type": "code",
   "execution_count": 3,
   "metadata": {},
   "outputs": [
    {
     "name": "stderr",
     "output_type": "stream",
     "text": [
      "100%|██████████| 4609/4609 [00:24<00:00, 184.39it/s]\n"
     ]
    },
    {
     "data": {
      "text/html": [
       "<div>\n",
       "<style scoped>\n",
       "    .dataframe tbody tr th:only-of-type {\n",
       "        vertical-align: middle;\n",
       "    }\n",
       "\n",
       "    .dataframe tbody tr th {\n",
       "        vertical-align: top;\n",
       "    }\n",
       "\n",
       "    .dataframe thead th {\n",
       "        text-align: right;\n",
       "    }\n",
       "</style>\n",
       "<table border=\"1\" class=\"dataframe\">\n",
       "  <thead>\n",
       "    <tr style=\"text-align: right;\">\n",
       "      <th></th>\n",
       "      <th>C</th>\n",
       "      <th>C#</th>\n",
       "      <th>D</th>\n",
       "      <th>D#</th>\n",
       "      <th>E</th>\n",
       "      <th>F</th>\n",
       "      <th>F#</th>\n",
       "      <th>G</th>\n",
       "      <th>G#</th>\n",
       "      <th>A</th>\n",
       "      <th>A#</th>\n",
       "      <th>B</th>\n",
       "      <th>Chord Actual</th>\n",
       "    </tr>\n",
       "  </thead>\n",
       "  <tbody>\n",
       "    <tr>\n",
       "      <th>0</th>\n",
       "      <td>0</td>\n",
       "      <td>316</td>\n",
       "      <td>0</td>\n",
       "      <td>0</td>\n",
       "      <td>0</td>\n",
       "      <td>0</td>\n",
       "      <td>0</td>\n",
       "      <td>0</td>\n",
       "      <td>147</td>\n",
       "      <td>0</td>\n",
       "      <td>0</td>\n",
       "      <td>0</td>\n",
       "      <td>Em</td>\n",
       "    </tr>\n",
       "    <tr>\n",
       "      <th>1</th>\n",
       "      <td>0</td>\n",
       "      <td>316</td>\n",
       "      <td>0</td>\n",
       "      <td>0</td>\n",
       "      <td>0</td>\n",
       "      <td>0</td>\n",
       "      <td>0</td>\n",
       "      <td>0</td>\n",
       "      <td>147</td>\n",
       "      <td>0</td>\n",
       "      <td>0</td>\n",
       "      <td>0</td>\n",
       "      <td>Em</td>\n",
       "    </tr>\n",
       "    <tr>\n",
       "      <th>2</th>\n",
       "      <td>0</td>\n",
       "      <td>316</td>\n",
       "      <td>0</td>\n",
       "      <td>0</td>\n",
       "      <td>0</td>\n",
       "      <td>0</td>\n",
       "      <td>0</td>\n",
       "      <td>0</td>\n",
       "      <td>147</td>\n",
       "      <td>0</td>\n",
       "      <td>0</td>\n",
       "      <td>0</td>\n",
       "      <td>Em</td>\n",
       "    </tr>\n",
       "    <tr>\n",
       "      <th>3</th>\n",
       "      <td>0</td>\n",
       "      <td>316</td>\n",
       "      <td>0</td>\n",
       "      <td>0</td>\n",
       "      <td>0</td>\n",
       "      <td>0</td>\n",
       "      <td>0</td>\n",
       "      <td>0</td>\n",
       "      <td>147</td>\n",
       "      <td>0</td>\n",
       "      <td>0</td>\n",
       "      <td>0</td>\n",
       "      <td>Em</td>\n",
       "    </tr>\n",
       "    <tr>\n",
       "      <th>4</th>\n",
       "      <td>0</td>\n",
       "      <td>316</td>\n",
       "      <td>0</td>\n",
       "      <td>0</td>\n",
       "      <td>0</td>\n",
       "      <td>0</td>\n",
       "      <td>0</td>\n",
       "      <td>0</td>\n",
       "      <td>147</td>\n",
       "      <td>0</td>\n",
       "      <td>0</td>\n",
       "      <td>0</td>\n",
       "      <td>Em</td>\n",
       "    </tr>\n",
       "    <tr>\n",
       "      <th>5</th>\n",
       "      <td>0</td>\n",
       "      <td>316</td>\n",
       "      <td>0</td>\n",
       "      <td>0</td>\n",
       "      <td>0</td>\n",
       "      <td>0</td>\n",
       "      <td>0</td>\n",
       "      <td>0</td>\n",
       "      <td>147</td>\n",
       "      <td>0</td>\n",
       "      <td>0</td>\n",
       "      <td>0</td>\n",
       "      <td>Em</td>\n",
       "    </tr>\n",
       "  </tbody>\n",
       "</table>\n",
       "</div>"
      ],
      "text/plain": [
       "   C   C#  D  D#  E  F  F#  G   G#  A  A#  B Chord Actual\n",
       "0  0  316  0   0  0  0   0  0  147  0   0  0           Em\n",
       "1  0  316  0   0  0  0   0  0  147  0   0  0           Em\n",
       "2  0  316  0   0  0  0   0  0  147  0   0  0           Em\n",
       "3  0  316  0   0  0  0   0  0  147  0   0  0           Em\n",
       "4  0  316  0   0  0  0   0  0  147  0   0  0           Em\n",
       "5  0  316  0   0  0  0   0  0  147  0   0  0           Em"
      ]
     },
     "execution_count": 3,
     "metadata": {},
     "output_type": "execute_result"
    }
   ],
   "source": [
    "song_chromagrams = []\n",
    "for song_name in tqdm(list(training_piece_names)):\n",
    "    indiv_chroma = get_chromagram(song_name, midi_data)\n",
    "    song_chromagrams.append(indiv_chroma)\n",
    "\n",
    "chromagram = pd.concat(song_chromagrams)\n",
    "chromagram.head(6)"
   ]
  },
  {
   "cell_type": "markdown",
   "metadata": {},
   "source": [
    "##### Create HMM Components:"
   ]
  },
  {
   "cell_type": "markdown",
   "metadata": {},
   "source": [
    "###### Initial State Probabilities:"
   ]
  },
  {
   "cell_type": "code",
   "execution_count": 4,
   "metadata": {},
   "outputs": [],
   "source": [
    "def calculate_init_prob(song_chromagrams):\n",
    "    first_chords = []\n",
    "    for song_chroma in tqdm(song_chromagrams):\n",
    "        first_chord = song_chroma['Chord Actual'].values[0]\n",
    "        first_chords.append(first_chord)\n",
    "    \n",
    "    first_chord_counts = np.unique(first_chords, return_counts=True)\n",
    "\n",
    "    return pd.Series(first_chord_counts[1]/first_chord_counts[1].sum(), index=first_chord_counts[0])"
   ]
  },
  {
   "cell_type": "code",
   "execution_count": 5,
   "metadata": {},
   "outputs": [
    {
     "name": "stderr",
     "output_type": "stream",
     "text": [
      "100%|██████████| 4609/4609 [00:00<00:00, 37510.62it/s]\n"
     ]
    },
    {
     "data": {
      "text/plain": [
       "A        0.020395\n",
       "A#       0.000217\n",
       "B        0.120634\n",
       "Bm       0.155782\n",
       "C        0.000217\n",
       "C#dim    0.000217\n",
       "C#m      0.062486\n",
       "D        0.117162\n",
       "D#m      0.020395\n",
       "E        0.116511\n",
       "Em       0.060100\n",
       "F#       0.021914\n",
       "F#m      0.020395\n",
       "G        0.118898\n",
       "G#m      0.164678\n",
       "dtype: float64"
      ]
     },
     "execution_count": 5,
     "metadata": {},
     "output_type": "execute_result"
    }
   ],
   "source": [
    "initial_state_probabilties = calculate_init_prob(song_chromagrams)\n",
    "initial_state_probabilties"
   ]
  },
  {
   "cell_type": "markdown",
   "metadata": {},
   "source": [
    "###### Transition Matrix:"
   ]
  },
  {
   "cell_type": "code",
   "execution_count": 6,
   "metadata": {},
   "outputs": [
    {
     "data": {
      "text/html": [
       "<div>\n",
       "<style scoped>\n",
       "    .dataframe tbody tr th:only-of-type {\n",
       "        vertical-align: middle;\n",
       "    }\n",
       "\n",
       "    .dataframe tbody tr th {\n",
       "        vertical-align: top;\n",
       "    }\n",
       "\n",
       "    .dataframe thead th {\n",
       "        text-align: right;\n",
       "    }\n",
       "</style>\n",
       "<table border=\"1\" class=\"dataframe\">\n",
       "  <thead>\n",
       "    <tr style=\"text-align: right;\">\n",
       "      <th>following_chords</th>\n",
       "      <th>A</th>\n",
       "      <th>A#</th>\n",
       "      <th>A#dim</th>\n",
       "      <th>B</th>\n",
       "      <th>Bm</th>\n",
       "      <th>C</th>\n",
       "      <th>C#dim</th>\n",
       "      <th>C#m</th>\n",
       "      <th>D</th>\n",
       "      <th>D#</th>\n",
       "      <th>...</th>\n",
       "      <th>Em</th>\n",
       "      <th>F</th>\n",
       "      <th>F#</th>\n",
       "      <th>F#m</th>\n",
       "      <th>G</th>\n",
       "      <th>G#</th>\n",
       "      <th>G#m</th>\n",
       "      <th>dim</th>\n",
       "      <th>&lt;E&gt;</th>\n",
       "      <th>&lt;S&gt;</th>\n",
       "    </tr>\n",
       "    <tr>\n",
       "      <th>initial_chords</th>\n",
       "      <th></th>\n",
       "      <th></th>\n",
       "      <th></th>\n",
       "      <th></th>\n",
       "      <th></th>\n",
       "      <th></th>\n",
       "      <th></th>\n",
       "      <th></th>\n",
       "      <th></th>\n",
       "      <th></th>\n",
       "      <th></th>\n",
       "      <th></th>\n",
       "      <th></th>\n",
       "      <th></th>\n",
       "      <th></th>\n",
       "      <th></th>\n",
       "      <th></th>\n",
       "      <th></th>\n",
       "      <th></th>\n",
       "      <th></th>\n",
       "      <th></th>\n",
       "    </tr>\n",
       "  </thead>\n",
       "  <tbody>\n",
       "    <tr>\n",
       "      <th>A</th>\n",
       "      <td>0.861214</td>\n",
       "      <td>0.000</td>\n",
       "      <td>0.000073</td>\n",
       "      <td>0.006487</td>\n",
       "      <td>0.043589</td>\n",
       "      <td>0.000073</td>\n",
       "      <td>0.002989</td>\n",
       "      <td>0.002916</td>\n",
       "      <td>0.019681</td>\n",
       "      <td>0.00000</td>\n",
       "      <td>...</td>\n",
       "      <td>0.009840</td>\n",
       "      <td>0.0</td>\n",
       "      <td>0.001166</td>\n",
       "      <td>0.011152</td>\n",
       "      <td>0.020920</td>\n",
       "      <td>0.000073</td>\n",
       "      <td>0.008747</td>\n",
       "      <td>0.000073</td>\n",
       "      <td>0.0</td>\n",
       "      <td>0</td>\n",
       "    </tr>\n",
       "    <tr>\n",
       "      <th>A#</th>\n",
       "      <td>0.000000</td>\n",
       "      <td>0.875</td>\n",
       "      <td>0.000000</td>\n",
       "      <td>0.000000</td>\n",
       "      <td>0.000000</td>\n",
       "      <td>0.000000</td>\n",
       "      <td>0.000000</td>\n",
       "      <td>0.000000</td>\n",
       "      <td>0.000000</td>\n",
       "      <td>0.09375</td>\n",
       "      <td>...</td>\n",
       "      <td>0.031250</td>\n",
       "      <td>0.0</td>\n",
       "      <td>0.000000</td>\n",
       "      <td>0.000000</td>\n",
       "      <td>0.000000</td>\n",
       "      <td>0.000000</td>\n",
       "      <td>0.000000</td>\n",
       "      <td>0.000000</td>\n",
       "      <td>0.0</td>\n",
       "      <td>0</td>\n",
       "    </tr>\n",
       "    <tr>\n",
       "      <th>A#dim</th>\n",
       "      <td>0.005391</td>\n",
       "      <td>0.000</td>\n",
       "      <td>0.878706</td>\n",
       "      <td>0.005391</td>\n",
       "      <td>0.016173</td>\n",
       "      <td>0.000000</td>\n",
       "      <td>0.000000</td>\n",
       "      <td>0.010782</td>\n",
       "      <td>0.010782</td>\n",
       "      <td>0.00000</td>\n",
       "      <td>...</td>\n",
       "      <td>0.008086</td>\n",
       "      <td>0.0</td>\n",
       "      <td>0.005391</td>\n",
       "      <td>0.000000</td>\n",
       "      <td>0.013477</td>\n",
       "      <td>0.000000</td>\n",
       "      <td>0.032345</td>\n",
       "      <td>0.000000</td>\n",
       "      <td>0.0</td>\n",
       "      <td>0</td>\n",
       "    </tr>\n",
       "    <tr>\n",
       "      <th>B</th>\n",
       "      <td>0.000908</td>\n",
       "      <td>0.000</td>\n",
       "      <td>0.000000</td>\n",
       "      <td>0.862980</td>\n",
       "      <td>0.005448</td>\n",
       "      <td>0.000091</td>\n",
       "      <td>0.000091</td>\n",
       "      <td>0.013620</td>\n",
       "      <td>0.008989</td>\n",
       "      <td>0.00000</td>\n",
       "      <td>...</td>\n",
       "      <td>0.001907</td>\n",
       "      <td>0.0</td>\n",
       "      <td>0.048851</td>\n",
       "      <td>0.000636</td>\n",
       "      <td>0.003269</td>\n",
       "      <td>0.000000</td>\n",
       "      <td>0.027422</td>\n",
       "      <td>0.000000</td>\n",
       "      <td>0.0</td>\n",
       "      <td>0</td>\n",
       "    </tr>\n",
       "    <tr>\n",
       "      <th>Bm</th>\n",
       "      <td>0.044079</td>\n",
       "      <td>0.000</td>\n",
       "      <td>0.000000</td>\n",
       "      <td>0.001527</td>\n",
       "      <td>0.863250</td>\n",
       "      <td>0.000133</td>\n",
       "      <td>0.000000</td>\n",
       "      <td>0.000664</td>\n",
       "      <td>0.022969</td>\n",
       "      <td>0.00000</td>\n",
       "      <td>...</td>\n",
       "      <td>0.012215</td>\n",
       "      <td>0.0</td>\n",
       "      <td>0.000398</td>\n",
       "      <td>0.022504</td>\n",
       "      <td>0.026753</td>\n",
       "      <td>0.000000</td>\n",
       "      <td>0.003651</td>\n",
       "      <td>0.000000</td>\n",
       "      <td>0.0</td>\n",
       "      <td>0</td>\n",
       "    </tr>\n",
       "  </tbody>\n",
       "</table>\n",
       "<p>5 rows × 22 columns</p>\n",
       "</div>"
      ],
      "text/plain": [
       "following_chords         A     A#     A#dim         B        Bm         C  \\\n",
       "initial_chords                                                              \n",
       "A                 0.861214  0.000  0.000073  0.006487  0.043589  0.000073   \n",
       "A#                0.000000  0.875  0.000000  0.000000  0.000000  0.000000   \n",
       "A#dim             0.005391  0.000  0.878706  0.005391  0.016173  0.000000   \n",
       "B                 0.000908  0.000  0.000000  0.862980  0.005448  0.000091   \n",
       "Bm                0.044079  0.000  0.000000  0.001527  0.863250  0.000133   \n",
       "\n",
       "following_chords     C#dim       C#m         D       D#  ...        Em    F  \\\n",
       "initial_chords                                           ...                  \n",
       "A                 0.002989  0.002916  0.019681  0.00000  ...  0.009840  0.0   \n",
       "A#                0.000000  0.000000  0.000000  0.09375  ...  0.031250  0.0   \n",
       "A#dim             0.000000  0.010782  0.010782  0.00000  ...  0.008086  0.0   \n",
       "B                 0.000091  0.013620  0.008989  0.00000  ...  0.001907  0.0   \n",
       "Bm                0.000000  0.000664  0.022969  0.00000  ...  0.012215  0.0   \n",
       "\n",
       "following_chords        F#       F#m         G        G#       G#m       dim  \\\n",
       "initial_chords                                                                 \n",
       "A                 0.001166  0.011152  0.020920  0.000073  0.008747  0.000073   \n",
       "A#                0.000000  0.000000  0.000000  0.000000  0.000000  0.000000   \n",
       "A#dim             0.005391  0.000000  0.013477  0.000000  0.032345  0.000000   \n",
       "B                 0.048851  0.000636  0.003269  0.000000  0.027422  0.000000   \n",
       "Bm                0.000398  0.022504  0.026753  0.000000  0.003651  0.000000   \n",
       "\n",
       "following_chords  <E>  <S>  \n",
       "initial_chords              \n",
       "A                 0.0    0  \n",
       "A#                0.0    0  \n",
       "A#dim             0.0    0  \n",
       "B                 0.0    0  \n",
       "Bm                0.0    0  \n",
       "\n",
       "[5 rows x 22 columns]"
      ]
     },
     "execution_count": 6,
     "metadata": {},
     "output_type": "execute_result"
    }
   ],
   "source": [
    "transition_prob_matrix = calculate_transition_probabilites(chromagram)\n",
    "transition_prob_matrix.head()"
   ]
  },
  {
   "cell_type": "markdown",
   "metadata": {},
   "source": [
    "###### Mu Value:"
   ]
  },
  {
   "cell_type": "code",
   "execution_count": 7,
   "metadata": {},
   "outputs": [
    {
     "data": {
      "text/plain": [
       "C     11.341131\n",
       "C#    37.151099\n",
       "D     24.881187\n",
       "D#    34.657234\n",
       "E     29.062937\n",
       "F     16.501733\n",
       "F#    45.153889\n",
       "G     16.587213\n",
       "G#    40.491961\n",
       "A     21.787228\n",
       "A#    25.193985\n",
       "B     49.429562\n",
       "dtype: float64"
      ]
     },
     "execution_count": 7,
     "metadata": {},
     "output_type": "execute_result"
    }
   ],
   "source": [
    "mu = calculate_mu_from_chroma(chromagram)\n",
    "mu"
   ]
  },
  {
   "cell_type": "markdown",
   "metadata": {},
   "source": [
    "###### Emission Matrix:"
   ]
  },
  {
   "cell_type": "code",
   "execution_count": 10,
   "metadata": {},
   "outputs": [],
   "source": [
    "emission = calculate_emission_from_chroma(chromagram)"
   ]
  }
 ],
 "metadata": {
  "kernelspec": {
   "display_name": ".venv",
   "language": "python",
   "name": "python3"
  },
  "language_info": {
   "codemirror_mode": {
    "name": "ipython",
    "version": 3
   },
   "file_extension": ".py",
   "mimetype": "text/x-python",
   "name": "python",
   "nbconvert_exporter": "python",
   "pygments_lexer": "ipython3",
   "version": "3.10.2"
  }
 },
 "nbformat": 4,
 "nbformat_minor": 2
}
