{
 "cells": [
  {
   "cell_type": "markdown",
   "metadata": {
    "pycharm": {
     "name": "#%% md\n"
    }
   },
   "source": [
    "##### Imports:"
   ]
  },
  {
   "cell_type": "code",
   "execution_count": 13,
   "metadata": {
    "pycharm": {
     "name": "#%%\n"
    }
   },
   "outputs": [],
   "source": [
    "from utils import calculate_covariance_from_chroma, separate_for_training, calculate_mu_from_chroma, calculate_transition_probabilites, format_indiv_chroma, predict, get_unique_predicted, calculate_initial_probabilities\n",
    "import pickle\n",
    "from chroma import get_chromagram\n",
    "import pandas as pd\n",
    "from tqdm import tqdm\n",
    "import numpy as np\n",
    "from hmmlearn import hmm"
   ]
  },
  {
   "cell_type": "markdown",
   "metadata": {
    "pycharm": {
     "name": "#%% md\n"
    }
   },
   "source": [
    "##### Steps:"
   ]
  },
  {
   "cell_type": "markdown",
   "metadata": {
    "pycharm": {
     "name": "#%% md\n"
    }
   },
   "source": [
    "1. Training / Testing Data Split\n",
    "2. Create Chromagram from Training Data\n",
    "3. Create HMM Initialization Components\n",
    "    - Initial State Probabilities\n",
    "    - Transition Probability Matrix\n",
    "    - Mu Value\n",
    "    - Emission Matrix\n",
    "4. Create HMM Object\n",
    "5. Fit / Train HMM"
   ]
  },
  {
   "cell_type": "markdown",
   "metadata": {
    "pycharm": {
     "name": "#%% md\n"
    }
   },
   "source": [
    "##### Training / Test Data Split:"
   ]
  },
  {
   "cell_type": "code",
   "execution_count": 6,
   "metadata": {
    "pycharm": {
     "name": "#%%\n"
    }
   },
   "outputs": [],
   "source": [
    "# Load data and split into training and test\n",
    "with open(r\"dataset.pkl\", 'rb') as data:\n",
    "    midi_data:dict = pickle.load(data)\n",
    "\n",
    "training_piece_names, test_piece_names = separate_for_training(midi_data, 0.8)\n",
    "NOTES_NAMES =   [\"C\", \"C#\", \"D\", \"D#\", \"E\", \"F\", \"F#\", \"G\", \"G#\", \"A\", \"A#\", \"B\"]\n",
    "FULL_CHORD_LIST = [note + suffix for note in NOTES_NAMES for suffix in ['', 'm', 'dim']]"
   ]
  },
  {
   "cell_type": "markdown",
   "metadata": {
    "pycharm": {
     "name": "#%% md\n"
    }
   },
   "source": [
    "##### Create Chromagram from Training Data:"
   ]
  },
  {
   "cell_type": "code",
   "execution_count": 7,
   "metadata": {
    "pycharm": {
     "name": "#%%\n"
    }
   },
   "outputs": [
    {
     "name": "stderr",
     "output_type": "stream",
     "text": [
      "100%|███████████████████████████████████████| 4609/4609 [00:50<00:00, 91.89it/s]\n"
     ]
    },
    {
     "data": {
      "text/html": [
       "<div>\n",
       "<style scoped>\n",
       "    .dataframe tbody tr th:only-of-type {\n",
       "        vertical-align: middle;\n",
       "    }\n",
       "\n",
       "    .dataframe tbody tr th {\n",
       "        vertical-align: top;\n",
       "    }\n",
       "\n",
       "    .dataframe thead th {\n",
       "        text-align: right;\n",
       "    }\n",
       "</style>\n",
       "<table border=\"1\" class=\"dataframe\">\n",
       "  <thead>\n",
       "    <tr style=\"text-align: right;\">\n",
       "      <th></th>\n",
       "      <th>C</th>\n",
       "      <th>C#</th>\n",
       "      <th>D</th>\n",
       "      <th>D#</th>\n",
       "      <th>E</th>\n",
       "      <th>F</th>\n",
       "      <th>F#</th>\n",
       "      <th>G</th>\n",
       "      <th>G#</th>\n",
       "      <th>A</th>\n",
       "      <th>A#</th>\n",
       "      <th>B</th>\n",
       "      <th>Chord Actual</th>\n",
       "    </tr>\n",
       "  </thead>\n",
       "  <tbody>\n",
       "    <tr>\n",
       "      <th>0</th>\n",
       "      <td>0</td>\n",
       "      <td>0</td>\n",
       "      <td>111</td>\n",
       "      <td>0</td>\n",
       "      <td>0</td>\n",
       "      <td>0</td>\n",
       "      <td>50</td>\n",
       "      <td>0</td>\n",
       "      <td>0</td>\n",
       "      <td>0</td>\n",
       "      <td>0</td>\n",
       "      <td>49</td>\n",
       "      <td>Bm</td>\n",
       "    </tr>\n",
       "    <tr>\n",
       "      <th>1</th>\n",
       "      <td>0</td>\n",
       "      <td>0</td>\n",
       "      <td>49</td>\n",
       "      <td>0</td>\n",
       "      <td>0</td>\n",
       "      <td>0</td>\n",
       "      <td>50</td>\n",
       "      <td>0</td>\n",
       "      <td>0</td>\n",
       "      <td>0</td>\n",
       "      <td>0</td>\n",
       "      <td>49</td>\n",
       "      <td>Bm</td>\n",
       "    </tr>\n",
       "    <tr>\n",
       "      <th>2</th>\n",
       "      <td>0</td>\n",
       "      <td>0</td>\n",
       "      <td>49</td>\n",
       "      <td>0</td>\n",
       "      <td>0</td>\n",
       "      <td>0</td>\n",
       "      <td>50</td>\n",
       "      <td>0</td>\n",
       "      <td>0</td>\n",
       "      <td>0</td>\n",
       "      <td>0</td>\n",
       "      <td>49</td>\n",
       "      <td>Bm</td>\n",
       "    </tr>\n",
       "    <tr>\n",
       "      <th>3</th>\n",
       "      <td>0</td>\n",
       "      <td>0</td>\n",
       "      <td>49</td>\n",
       "      <td>0</td>\n",
       "      <td>0</td>\n",
       "      <td>0</td>\n",
       "      <td>50</td>\n",
       "      <td>0</td>\n",
       "      <td>0</td>\n",
       "      <td>0</td>\n",
       "      <td>0</td>\n",
       "      <td>49</td>\n",
       "      <td>Bm</td>\n",
       "    </tr>\n",
       "    <tr>\n",
       "      <th>4</th>\n",
       "      <td>0</td>\n",
       "      <td>0</td>\n",
       "      <td>0</td>\n",
       "      <td>0</td>\n",
       "      <td>0</td>\n",
       "      <td>0</td>\n",
       "      <td>58</td>\n",
       "      <td>0</td>\n",
       "      <td>0</td>\n",
       "      <td>0</td>\n",
       "      <td>0</td>\n",
       "      <td>0</td>\n",
       "      <td>Bm</td>\n",
       "    </tr>\n",
       "    <tr>\n",
       "      <th>...</th>\n",
       "      <td>...</td>\n",
       "      <td>...</td>\n",
       "      <td>...</td>\n",
       "      <td>...</td>\n",
       "      <td>...</td>\n",
       "      <td>...</td>\n",
       "      <td>...</td>\n",
       "      <td>...</td>\n",
       "      <td>...</td>\n",
       "      <td>...</td>\n",
       "      <td>...</td>\n",
       "      <td>...</td>\n",
       "      <td>...</td>\n",
       "    </tr>\n",
       "    <tr>\n",
       "      <th>1</th>\n",
       "      <td>0</td>\n",
       "      <td>0</td>\n",
       "      <td>0</td>\n",
       "      <td>0</td>\n",
       "      <td>47</td>\n",
       "      <td>0</td>\n",
       "      <td>0</td>\n",
       "      <td>54</td>\n",
       "      <td>0</td>\n",
       "      <td>0</td>\n",
       "      <td>0</td>\n",
       "      <td>103</td>\n",
       "      <td>Em</td>\n",
       "    </tr>\n",
       "    <tr>\n",
       "      <th>2</th>\n",
       "      <td>0</td>\n",
       "      <td>0</td>\n",
       "      <td>0</td>\n",
       "      <td>0</td>\n",
       "      <td>47</td>\n",
       "      <td>0</td>\n",
       "      <td>0</td>\n",
       "      <td>54</td>\n",
       "      <td>0</td>\n",
       "      <td>0</td>\n",
       "      <td>0</td>\n",
       "      <td>50</td>\n",
       "      <td>Em</td>\n",
       "    </tr>\n",
       "    <tr>\n",
       "      <th>3</th>\n",
       "      <td>0</td>\n",
       "      <td>0</td>\n",
       "      <td>0</td>\n",
       "      <td>0</td>\n",
       "      <td>47</td>\n",
       "      <td>0</td>\n",
       "      <td>0</td>\n",
       "      <td>54</td>\n",
       "      <td>0</td>\n",
       "      <td>0</td>\n",
       "      <td>0</td>\n",
       "      <td>50</td>\n",
       "      <td>Em</td>\n",
       "    </tr>\n",
       "    <tr>\n",
       "      <th>4</th>\n",
       "      <td>0</td>\n",
       "      <td>0</td>\n",
       "      <td>0</td>\n",
       "      <td>0</td>\n",
       "      <td>47</td>\n",
       "      <td>0</td>\n",
       "      <td>0</td>\n",
       "      <td>54</td>\n",
       "      <td>0</td>\n",
       "      <td>0</td>\n",
       "      <td>0</td>\n",
       "      <td>50</td>\n",
       "      <td>Em</td>\n",
       "    </tr>\n",
       "    <tr>\n",
       "      <th>5</th>\n",
       "      <td>0</td>\n",
       "      <td>0</td>\n",
       "      <td>0</td>\n",
       "      <td>0</td>\n",
       "      <td>47</td>\n",
       "      <td>0</td>\n",
       "      <td>0</td>\n",
       "      <td>0</td>\n",
       "      <td>0</td>\n",
       "      <td>0</td>\n",
       "      <td>0</td>\n",
       "      <td>50</td>\n",
       "      <td>Em</td>\n",
       "    </tr>\n",
       "  </tbody>\n",
       "</table>\n",
       "<p>200 rows × 13 columns</p>\n",
       "</div>"
      ],
      "text/plain": [
       "    C  C#    D  D#   E  F  F#   G  G#  A  A#    B Chord Actual\n",
       "0   0   0  111   0   0  0  50   0   0  0   0   49           Bm\n",
       "1   0   0   49   0   0  0  50   0   0  0   0   49           Bm\n",
       "2   0   0   49   0   0  0  50   0   0  0   0   49           Bm\n",
       "3   0   0   49   0   0  0  50   0   0  0   0   49           Bm\n",
       "4   0   0    0   0   0  0  58   0   0  0   0    0           Bm\n",
       ".. ..  ..  ...  ..  .. ..  ..  ..  .. ..  ..  ...          ...\n",
       "1   0   0    0   0  47  0   0  54   0  0   0  103           Em\n",
       "2   0   0    0   0  47  0   0  54   0  0   0   50           Em\n",
       "3   0   0    0   0  47  0   0  54   0  0   0   50           Em\n",
       "4   0   0    0   0  47  0   0  54   0  0   0   50           Em\n",
       "5   0   0    0   0  47  0   0   0   0  0   0   50           Em\n",
       "\n",
       "[200 rows x 13 columns]"
      ]
     },
     "execution_count": 7,
     "metadata": {},
     "output_type": "execute_result"
    }
   ],
   "source": [
    "song_chromagrams = []\n",
    "for song_name in tqdm(list(training_piece_names)):\n",
    "    indiv_chroma = get_chromagram(song_name, midi_data)\n",
    "    formatted = format_indiv_chroma(indiv_chroma)\n",
    "    song_chromagrams.append(indiv_chroma)\n",
    "\n",
    "chromagram = pd.concat(song_chromagrams)\n",
    "chromagram.head(200)"
   ]
  },
  {
   "cell_type": "markdown",
   "metadata": {
    "pycharm": {
     "name": "#%% md\n"
    }
   },
   "source": [
    "##### Create HMM Components:"
   ]
  },
  {
   "cell_type": "markdown",
   "metadata": {
    "pycharm": {
     "name": "#%% md\n"
    }
   },
   "source": [
    "###### Initial State Probabilities:"
   ]
  },
  {
   "cell_type": "code",
   "execution_count": 35,
   "metadata": {
    "pycharm": {
     "name": "#%%\n"
    }
   },
   "outputs": [
    {
     "name": "stdout",
     "output_type": "stream",
     "text": [
      "1.0\n"
     ]
    }
   ],
   "source": [
    "initial_state_probabilties = calculate_initial_probabilities(training_piece_names, midi_data)\n",
    "initial_state_probabilties"
   ]
  },
  {
   "cell_type": "markdown",
   "metadata": {
    "pycharm": {
     "name": "#%% md\n"
    }
   },
   "source": [
    "###### Transition Matrix:"
   ]
  },
  {
   "cell_type": "code",
   "execution_count": 10,
   "metadata": {
    "pycharm": {
     "name": "#%%\n"
    }
   },
   "outputs": [
    {
     "name": "stdout",
     "output_type": "stream",
     "text": [
      "              C        Cm      Cdim        C#       C#m     C#dim         D  \\\n",
      "C      0.863179  0.000000  0.000000  0.000000  0.002012  0.000000  0.000000   \n",
      "Cm     0.027778  0.027778  0.027778  0.027778  0.027778  0.027778  0.027778   \n",
      "Cdim   0.027778  0.027778  0.027778  0.027778  0.027778  0.027778  0.027778   \n",
      "C#     0.000000  0.000000  0.000000  0.862069  0.001000  0.000000  0.005997   \n",
      "C#m    0.000000  0.000000  0.000000  0.000198  0.858730  0.000000  0.001984   \n",
      "C#dim  0.027778  0.027778  0.027778  0.027778  0.027778  0.027778  0.027778   \n",
      "D      0.000177  0.000000  0.000000  0.000177  0.001682  0.000000  0.863592   \n",
      "Dm     0.027778  0.027778  0.027778  0.027778  0.027778  0.027778  0.027778   \n",
      "Ddim   0.000000  0.000000  0.000000  0.000000  0.000000  0.000000  0.000000   \n",
      "D#     0.000000  0.000000  0.000000  0.000693  0.002080  0.000000  0.004161   \n",
      "D#m    0.000000  0.000000  0.000000  0.008180  0.003980  0.000000  0.006412   \n",
      "D#dim  0.027778  0.027778  0.027778  0.027778  0.027778  0.027778  0.027778   \n",
      "E      0.000061  0.000000  0.000000  0.003238  0.011362  0.000000  0.003910   \n",
      "Em     0.000000  0.000000  0.000000  0.000000  0.000948  0.000000  0.011372   \n",
      "Edim   0.027778  0.027778  0.027778  0.027778  0.027778  0.027778  0.027778   \n",
      "F      0.119306  0.000000  0.000000  0.000000  0.000000  0.000000  0.002169   \n",
      "Fm     0.027778  0.027778  0.027778  0.027778  0.027778  0.027778  0.027778   \n",
      "Fdim   0.027778  0.027778  0.027778  0.027778  0.027778  0.027778  0.027778   \n",
      "F#     0.000000  0.000000  0.000000  0.004866  0.004133  0.000000  0.006265   \n",
      "F#m    0.000000  0.000000  0.000000  0.000000  0.009958  0.000000  0.004449   \n",
      "F#dim  0.000000  0.000000  0.000000  0.000000  0.000000  0.000000  0.000000   \n",
      "G      0.000407  0.000000  0.000000  0.000203  0.002101  0.000000  0.030432   \n",
      "Gm     0.000000  0.000000  0.000000  0.000000  0.000000  0.000000  0.109375   \n",
      "Gdim   0.027778  0.027778  0.027778  0.027778  0.027778  0.027778  0.027778   \n",
      "G#     0.000758  0.000000  0.000000  0.001515  0.006061  0.000000  0.018182   \n",
      "G#m    0.000000  0.000000  0.000000  0.004089  0.007174  0.000000  0.001435   \n",
      "G#dim  0.000000  0.000000  0.000000  0.046875  0.000000  0.000000  0.000000   \n",
      "A      0.000000  0.000000  0.000000  0.003013  0.003748  0.000000  0.019547   \n",
      "Am     0.000000  0.000000  0.000000  0.000000  0.000000  0.000000  0.000000   \n",
      "Adim   0.027778  0.027778  0.027778  0.027778  0.027778  0.027778  0.027778   \n",
      "A#     0.004246  0.000000  0.000000  0.000000  0.000000  0.000000  0.016985   \n",
      "A#m    0.027778  0.027778  0.027778  0.027778  0.027778  0.027778  0.027778   \n",
      "A#dim  0.027778  0.027778  0.027778  0.027778  0.027778  0.027778  0.027778   \n",
      "B      0.000083  0.000000  0.000000  0.000249  0.014204  0.000000  0.010300   \n",
      "Bm     0.000000  0.000000  0.000000  0.000000  0.000563  0.000000  0.024340   \n",
      "Bdim   0.027778  0.027778  0.027778  0.027778  0.027778  0.027778  0.027778   \n",
      "\n",
      "             Dm      Ddim        D#  ...     G#dim         A        Am  \\\n",
      "C      0.000000  0.000000  0.002012  ...  0.000000  0.004024  0.000000   \n",
      "Cm     0.027778  0.027778  0.027778  ...  0.027778  0.027778  0.027778   \n",
      "Cdim   0.027778  0.027778  0.027778  ...  0.027778  0.027778  0.027778   \n",
      "C#     0.000000  0.000000  0.012994  ...  0.000000  0.001000  0.000000   \n",
      "C#m    0.000000  0.000000  0.009127  ...  0.000000  0.000198  0.000000   \n",
      "C#dim  0.027778  0.027778  0.027778  ...  0.027778  0.027778  0.027778   \n",
      "D      0.000000  0.000000  0.000000  ...  0.000000  0.047712  0.003452   \n",
      "Dm     0.027778  0.027778  0.027778  ...  0.027778  0.027778  0.027778   \n",
      "Ddim   0.000000  0.833333  0.000000  ...  0.000000  0.000000  0.000000   \n",
      "D#     0.000000  0.001387  0.876560  ...  0.000000  0.000693  0.000000   \n",
      "D#m    0.000000  0.000000  0.000000  ...  0.000000  0.000884  0.000000   \n",
      "D#dim  0.027778  0.027778  0.027778  ...  0.027778  0.027778  0.027778   \n",
      "E      0.000000  0.000000  0.000183  ...  0.000000  0.000794  0.000000   \n",
      "Em     0.000000  0.000000  0.000000  ...  0.000000  0.016490  0.000000   \n",
      "Edim   0.027778  0.027778  0.027778  ...  0.027778  0.027778  0.027778   \n",
      "F      0.000000  0.000000  0.000000  ...  0.000000  0.000000  0.000000   \n",
      "Fm     0.027778  0.027778  0.027778  ...  0.027778  0.027778  0.027778   \n",
      "Fdim   0.027778  0.027778  0.027778  ...  0.027778  0.027778  0.027778   \n",
      "F#     0.000000  0.000133  0.000067  ...  0.000200  0.001400  0.000000   \n",
      "F#m    0.000000  0.000000  0.000000  ...  0.000000  0.001695  0.000000   \n",
      "F#dim  0.000000  0.000000  0.000000  ...  0.000000  0.132565  0.000000   \n",
      "G      0.000000  0.000000  0.000000  ...  0.000000  0.033686  0.000000   \n",
      "Gm     0.000000  0.000000  0.000000  ...  0.000000  0.000000  0.000000   \n",
      "Gdim   0.027778  0.027778  0.027778  ...  0.027778  0.027778  0.027778   \n",
      "G#     0.000000  0.000000  0.004545  ...  0.000000  0.002273  0.000000   \n",
      "G#m    0.000000  0.000000  0.006385  ...  0.000000  0.000143  0.000000   \n",
      "G#dim  0.000000  0.000000  0.000000  ...  0.921875  0.000000  0.000000   \n",
      "A      0.000000  0.000000  0.000000  ...  0.000147  0.861038  0.000000   \n",
      "Am     0.000000  0.000000  0.000000  ...  0.000000  0.000000  0.865052   \n",
      "Adim   0.027778  0.027778  0.027778  ...  0.027778  0.027778  0.027778   \n",
      "A#     0.000000  0.000000  0.012739  ...  0.000000  0.000000  0.000000   \n",
      "A#m    0.027778  0.027778  0.027778  ...  0.027778  0.027778  0.027778   \n",
      "A#dim  0.027778  0.027778  0.027778  ...  0.027778  0.027778  0.027778   \n",
      "B      0.000000  0.000000  0.000000  ...  0.000000  0.000997  0.000000   \n",
      "Bm     0.000000  0.000000  0.000000  ...  0.000000  0.045937  0.000000   \n",
      "Bdim   0.027778  0.027778  0.027778  ...  0.027778  0.027778  0.027778   \n",
      "\n",
      "           Adim        A#       A#m     A#dim         B        Bm      Bdim  \n",
      "C      0.000000  0.000000  0.000000  0.000000  0.010060  0.000000  0.000000  \n",
      "Cm     0.027778  0.027778  0.027778  0.027778  0.027778  0.027778  0.027778  \n",
      "Cdim   0.027778  0.027778  0.027778  0.027778  0.027778  0.027778  0.027778  \n",
      "C#     0.000000  0.000000  0.000000  0.000000  0.004498  0.004498  0.000000  \n",
      "C#m    0.000000  0.000000  0.000000  0.000000  0.010714  0.004762  0.000000  \n",
      "C#dim  0.027778  0.027778  0.027778  0.027778  0.027778  0.027778  0.027778  \n",
      "D      0.000000  0.000089  0.000000  0.000000  0.003895  0.027175  0.000000  \n",
      "Dm     0.027778  0.027778  0.027778  0.027778  0.027778  0.027778  0.027778  \n",
      "Ddim   0.000000  0.000000  0.000000  0.000000  0.083333  0.000000  0.000000  \n",
      "D#     0.000000  0.000000  0.000000  0.000000  0.005548  0.004161  0.000000  \n",
      "D#m    0.000000  0.000000  0.000000  0.000000  0.007296  0.007296  0.000000  \n",
      "D#dim  0.027778  0.027778  0.027778  0.027778  0.027778  0.027778  0.027778  \n",
      "E      0.000000  0.000244  0.000000  0.000000  0.031521  0.005864  0.000000  \n",
      "Em     0.000000  0.000000  0.000000  0.000000  0.004359  0.053260  0.000000  \n",
      "Edim   0.027778  0.027778  0.027778  0.027778  0.027778  0.027778  0.027778  \n",
      "F      0.000000  0.013015  0.000000  0.000000  0.000000  0.000000  0.000000  \n",
      "Fm     0.027778  0.027778  0.027778  0.027778  0.027778  0.027778  0.027778  \n",
      "Fdim   0.027778  0.027778  0.027778  0.027778  0.027778  0.027778  0.027778  \n",
      "F#     0.000000  0.002999  0.000000  0.000000  0.017996  0.007998  0.000000  \n",
      "F#m    0.000000  0.000000  0.000000  0.000000  0.005932  0.017585  0.000000  \n",
      "F#dim  0.000000  0.000000  0.000000  0.000000  0.000000  0.000000  0.000000  \n",
      "G      0.000000  0.000000  0.000000  0.000000  0.006574  0.021350  0.000000  \n",
      "Gm     0.000000  0.000000  0.000000  0.000000  0.000000  0.000000  0.000000  \n",
      "Gdim   0.027778  0.027778  0.027778  0.027778  0.027778  0.027778  0.027778  \n",
      "G#     0.000000  0.000000  0.000000  0.000000  0.033333  0.015152  0.000000  \n",
      "G#m    0.000000  0.000000  0.000000  0.000000  0.024033  0.002439  0.000000  \n",
      "G#dim  0.000000  0.000000  0.000000  0.000000  0.000000  0.031250  0.000000  \n",
      "A      0.000000  0.000073  0.000000  0.000000  0.011537  0.040711  0.000000  \n",
      "Am     0.000000  0.000000  0.000000  0.000000  0.000000  0.000000  0.000000  \n",
      "Adim   0.027778  0.027778  0.027778  0.027778  0.027778  0.027778  0.027778  \n",
      "A#     0.000000  0.876858  0.000000  0.000000  0.012739  0.016985  0.000000  \n",
      "A#m    0.027778  0.027778  0.027778  0.027778  0.027778  0.027778  0.027778  \n",
      "A#dim  0.027778  0.027778  0.027778  0.027778  0.027778  0.027778  0.027778  \n",
      "B      0.000000  0.000083  0.000000  0.000000  0.863278  0.006064  0.000000  \n",
      "Bm     0.000000  0.000000  0.000000  0.000000  0.001126  0.861695  0.000000  \n",
      "Bdim   0.027778  0.027778  0.027778  0.027778  0.027778  0.027778  0.027778  \n",
      "\n",
      "[36 rows x 36 columns]\n"
     ]
    }
   ],
   "source": [
    "transition_prob_matrix = calculate_transition_probabilites(chromagram)\n",
    "print(transition_prob_matrix)\n",
    "assert np.allclose(transition_prob_matrix.sum(axis=1), 1), \"Not all rows sum to 1\""
   ]
  },
  {
   "cell_type": "markdown",
   "metadata": {
    "pycharm": {
     "name": "#%% md\n"
    }
   },
   "source": [
    "###### Mu Value:"
   ]
  },
  {
   "cell_type": "code",
   "execution_count": 11,
   "metadata": {
    "pycharm": {
     "name": "#%%\n"
    }
   },
   "outputs": [],
   "source": [
    "mu = calculate_mu_from_chroma(chromagram)"
   ]
  },
  {
   "cell_type": "markdown",
   "metadata": {
    "pycharm": {
     "name": "#%% md\n"
    }
   },
   "source": [
    "###### Covariance Matrix:"
   ]
  },
  {
   "cell_type": "code",
   "execution_count": 14,
   "metadata": {},
   "outputs": [
    {
     "name": "stdout",
     "output_type": "stream",
     "text": [
      "Covariances shape: (36, 12, 12)\n"
     ]
    }
   ],
   "source": [
    "# Example usage\n",
    "covars = calculate_covariance_from_chroma(chromagram)\n",
    "print(\"Covariances shape:\", covars.shape)"
   ]
  },
  {
   "cell_type": "code",
   "execution_count": 34,
   "metadata": {
    "pycharm": {
     "name": "#%%\n"
    }
   },
   "outputs": [],
   "source": [
    "model = hmm.GaussianHMM(n_components=transition_prob_matrix.shape[0], covariance_type=\"diag\")\n",
    "model.startprob_ = initial_state_probabilties\n",
    "model.transmat_ = transition_prob_matrix.values\n",
    "model.means_ = mu.reshape(-1, 1)\n",
    "model.covars_ = np.array([np.diag(cov_matrix) + 1e-6 for cov_matrix in covars]).reshape(-1, 12)\n",
    "model.n_features = 36"
   ]
  },
  {
   "cell_type": "code",
   "execution_count": 33,
   "metadata": {
    "pycharm": {
     "name": "#%%\n"
    }
   },
   "outputs": [
    {
     "name": "stderr",
     "output_type": "stream",
     "text": [
      "100%|██████████████████████████████████████| 1153/1153 [00:11<00:00, 101.75it/s]"
     ]
    },
    {
     "name": "stdout",
     "output_type": "stream",
     "text": [
      "F1 Score: 0.03968849253172719\n"
     ]
    },
    {
     "name": "stderr",
     "output_type": "stream",
     "text": [
      "\n"
     ]
    }
   ],
   "source": [
    "from sklearn.metrics import f1_score\n",
    "custom_encoding = {}\n",
    "for i, chord in enumerate(FULL_CHORD_LIST):\n",
    "    custom_encoding[chord] = i\n",
    "\n",
    "true_labels = []\n",
    "predicted_labels = []\n",
    "for song_name in tqdm(list(test_piece_names)):\n",
    "    last_chord, chromagram_without_last_chord = separate_last_chord(get_chromagram(song_name, midi_data))\n",
    "\n",
    "    encoded_chromagram_without_last_chord = chromagram_without_last_chord['Chord Actual'].apply(lambda x: custom_encoding.get(x))\n",
    "    preds = model.predict(encoded_chromagram_without_last_chord.values.reshape(-1, 1))\n",
    "    predicted_chords = [FULL_CHORD_LIST[i] for i in preds]\n",
    "    \n",
    "    prediction = predicted_chords[-1]\n",
    "    \n",
    "    predicted_labels.append(prediction)\n",
    "    true_labels.append(last_chord)\n",
    "\n",
    "# Ensure both true_labels and predicted_labels are encoded with custom_encoding for F1 score calculation\n",
    "encoded_true_labels = [custom_encoding.get(x) for x in true_labels]\n",
    "encoded_predicted_labels = [custom_encoding.get(x) for x in predicted_labels]\n",
    "\n",
    "# Calculate the F1 score\n",
    "f1 = f1_score(encoded_true_labels, encoded_predicted_labels, average='weighted')\n",
    "print(f\"F1 Score: {f1}\")"
   ]
  },
  {
   "cell_type": "code",
   "execution_count": null,
   "metadata": {
    "pycharm": {
     "name": "#%%\n"
    }
   },
   "outputs": [],
   "source": []
  },
  {
   "cell_type": "code",
   "execution_count": null,
   "metadata": {
    "pycharm": {
     "name": "#%%\n"
    }
   },
   "outputs": [],
   "source": []
  },
  {
   "cell_type": "code",
   "execution_count": null,
   "metadata": {
    "pycharm": {
     "name": "#%%\n"
    }
   },
   "outputs": [],
   "source": []
  }
 ],
 "metadata": {
  "kernelspec": {
   "display_name": "Python 3 (ipykernel)",
   "language": "python",
   "name": "python3"
  },
  "language_info": {
   "codemirror_mode": {
    "name": "ipython",
    "version": 3
   },
   "file_extension": ".py",
   "mimetype": "text/x-python",
   "name": "python",
   "nbconvert_exporter": "python",
   "pygments_lexer": "ipython3",
   "version": "3.7.10"
  }
 },
 "nbformat": 4,
 "nbformat_minor": 2
}
