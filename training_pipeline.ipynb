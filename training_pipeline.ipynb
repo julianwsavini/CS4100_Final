{
 "cells": [
  {
   "cell_type": "markdown",
   "metadata": {
    "pycharm": {
     "name": "#%% md\n"
    }
   },
   "source": [
    "##### Imports:"
   ]
  },
  {
   "cell_type": "code",
   "execution_count": 13,
   "metadata": {
    "pycharm": {
     "name": "#%%\n"
    }
   },
   "outputs": [],
   "source": [
    "from utils import calculate_covariance_from_chroma, separate_for_training, calculate_mu_from_chroma, calculate_transition_probabilites, format_indiv_chroma, predict, get_unique_predicted, calculate_initial_probabilities\n",
    "import pickle\n",
    "from chroma import get_chromagram\n",
    "import pandas as pd\n",
    "from tqdm import tqdm\n",
    "import numpy as np\n",
    "from hmmlearn import hmm\n",
    "from sklearn.metrics import f1_score"
   ]
  },
  {
   "cell_type": "markdown",
   "metadata": {
    "pycharm": {
     "name": "#%% md\n"
    }
   },
   "source": [
    "##### Steps:"
   ]
  },
  {
   "cell_type": "markdown",
   "metadata": {
    "pycharm": {
     "name": "#%% md\n"
    }
   },
   "source": [
    "1. Training / Testing Data Split\n",
    "2. Create Chromagram from Training Data\n",
    "3. Create HMM Initialization Components\n",
    "    - Initial State Probabilities\n",
    "    - Transition Probability Matrix\n",
    "    - Mu Value\n",
    "    - Emission Matrix\n",
    "4. Create HMM Object\n",
    "5. Fit / Train HMM"
   ]
  },
  {
   "cell_type": "markdown",
   "metadata": {
    "pycharm": {
     "name": "#%% md\n"
    }
   },
   "source": [
    "##### Training / Test Data Split:"
   ]
  },
  {
   "cell_type": "code",
   "execution_count": 6,
   "metadata": {
    "pycharm": {
     "name": "#%%\n"
    }
   },
   "outputs": [],
   "source": [
    "# Load data and split into training and test\n",
    "with open(r\"dataset.pkl\", 'rb') as data:\n",
    "    midi_data:dict = pickle.load(data)\n",
    "\n",
    "training_piece_names, test_piece_names = separate_for_training(midi_data, 0.8)\n",
    "NOTES_NAMES =   [\"C\", \"C#\", \"D\", \"D#\", \"E\", \"F\", \"F#\", \"G\", \"G#\", \"A\", \"A#\", \"B\"]\n",
    "FULL_CHORD_LIST = [note + suffix for note in NOTES_NAMES for suffix in ['', 'm', 'dim']]"
   ]
  },
  {
   "cell_type": "markdown",
   "metadata": {
    "pycharm": {
     "name": "#%% md\n"
    }
   },
   "source": [
    "##### Create Chromagram from Training Data:"
   ]
  },
  {
   "cell_type": "code",
   "execution_count": 7,
   "metadata": {
    "pycharm": {
     "name": "#%%\n"
    }
   },
   "outputs": [
    {
     "name": "stderr",
     "output_type": "stream",
     "text": [
      "100%|███████████████████████████████████████| 4609/4609 [00:50<00:00, 91.89it/s]\n"
     ]
    },
    {
     "data": {
      "text/html": [
       "<div>\n",
       "<style scoped>\n",
       "    .dataframe tbody tr th:only-of-type {\n",
       "        vertical-align: middle;\n",
       "    }\n",
       "\n",
       "    .dataframe tbody tr th {\n",
       "        vertical-align: top;\n",
       "    }\n",
       "\n",
       "    .dataframe thead th {\n",
       "        text-align: right;\n",
       "    }\n",
       "</style>\n",
       "<table border=\"1\" class=\"dataframe\">\n",
       "  <thead>\n",
       "    <tr style=\"text-align: right;\">\n",
       "      <th></th>\n",
       "      <th>C</th>\n",
       "      <th>C#</th>\n",
       "      <th>D</th>\n",
       "      <th>D#</th>\n",
       "      <th>E</th>\n",
       "      <th>F</th>\n",
       "      <th>F#</th>\n",
       "      <th>G</th>\n",
       "      <th>G#</th>\n",
       "      <th>A</th>\n",
       "      <th>A#</th>\n",
       "      <th>B</th>\n",
       "      <th>Chord Actual</th>\n",
       "    </tr>\n",
       "  </thead>\n",
       "  <tbody>\n",
       "    <tr>\n",
       "      <th>0</th>\n",
       "      <td>0</td>\n",
       "      <td>0</td>\n",
       "      <td>111</td>\n",
       "      <td>0</td>\n",
       "      <td>0</td>\n",
       "      <td>0</td>\n",
       "      <td>50</td>\n",
       "      <td>0</td>\n",
       "      <td>0</td>\n",
       "      <td>0</td>\n",
       "      <td>0</td>\n",
       "      <td>49</td>\n",
       "      <td>Bm</td>\n",
       "    </tr>\n",
       "    <tr>\n",
       "      <th>1</th>\n",
       "      <td>0</td>\n",
       "      <td>0</td>\n",
       "      <td>49</td>\n",
       "      <td>0</td>\n",
       "      <td>0</td>\n",
       "      <td>0</td>\n",
       "      <td>50</td>\n",
       "      <td>0</td>\n",
       "      <td>0</td>\n",
       "      <td>0</td>\n",
       "      <td>0</td>\n",
       "      <td>49</td>\n",
       "      <td>Bm</td>\n",
       "    </tr>\n",
       "    <tr>\n",
       "      <th>2</th>\n",
       "      <td>0</td>\n",
       "      <td>0</td>\n",
       "      <td>49</td>\n",
       "      <td>0</td>\n",
       "      <td>0</td>\n",
       "      <td>0</td>\n",
       "      <td>50</td>\n",
       "      <td>0</td>\n",
       "      <td>0</td>\n",
       "      <td>0</td>\n",
       "      <td>0</td>\n",
       "      <td>49</td>\n",
       "      <td>Bm</td>\n",
       "    </tr>\n",
       "    <tr>\n",
       "      <th>3</th>\n",
       "      <td>0</td>\n",
       "      <td>0</td>\n",
       "      <td>49</td>\n",
       "      <td>0</td>\n",
       "      <td>0</td>\n",
       "      <td>0</td>\n",
       "      <td>50</td>\n",
       "      <td>0</td>\n",
       "      <td>0</td>\n",
       "      <td>0</td>\n",
       "      <td>0</td>\n",
       "      <td>49</td>\n",
       "      <td>Bm</td>\n",
       "    </tr>\n",
       "    <tr>\n",
       "      <th>4</th>\n",
       "      <td>0</td>\n",
       "      <td>0</td>\n",
       "      <td>0</td>\n",
       "      <td>0</td>\n",
       "      <td>0</td>\n",
       "      <td>0</td>\n",
       "      <td>58</td>\n",
       "      <td>0</td>\n",
       "      <td>0</td>\n",
       "      <td>0</td>\n",
       "      <td>0</td>\n",
       "      <td>0</td>\n",
       "      <td>Bm</td>\n",
       "    </tr>\n",
       "    <tr>\n",
       "      <th>...</th>\n",
       "      <td>...</td>\n",
       "      <td>...</td>\n",
       "      <td>...</td>\n",
       "      <td>...</td>\n",
       "      <td>...</td>\n",
       "      <td>...</td>\n",
       "      <td>...</td>\n",
       "      <td>...</td>\n",
       "      <td>...</td>\n",
       "      <td>...</td>\n",
       "      <td>...</td>\n",
       "      <td>...</td>\n",
       "      <td>...</td>\n",
       "    </tr>\n",
       "    <tr>\n",
       "      <th>1</th>\n",
       "      <td>0</td>\n",
       "      <td>0</td>\n",
       "      <td>0</td>\n",
       "      <td>0</td>\n",
       "      <td>47</td>\n",
       "      <td>0</td>\n",
       "      <td>0</td>\n",
       "      <td>54</td>\n",
       "      <td>0</td>\n",
       "      <td>0</td>\n",
       "      <td>0</td>\n",
       "      <td>103</td>\n",
       "      <td>Em</td>\n",
       "    </tr>\n",
       "    <tr>\n",
       "      <th>2</th>\n",
       "      <td>0</td>\n",
       "      <td>0</td>\n",
       "      <td>0</td>\n",
       "      <td>0</td>\n",
       "      <td>47</td>\n",
       "      <td>0</td>\n",
       "      <td>0</td>\n",
       "      <td>54</td>\n",
       "      <td>0</td>\n",
       "      <td>0</td>\n",
       "      <td>0</td>\n",
       "      <td>50</td>\n",
       "      <td>Em</td>\n",
       "    </tr>\n",
       "    <tr>\n",
       "      <th>3</th>\n",
       "      <td>0</td>\n",
       "      <td>0</td>\n",
       "      <td>0</td>\n",
       "      <td>0</td>\n",
       "      <td>47</td>\n",
       "      <td>0</td>\n",
       "      <td>0</td>\n",
       "      <td>54</td>\n",
       "      <td>0</td>\n",
       "      <td>0</td>\n",
       "      <td>0</td>\n",
       "      <td>50</td>\n",
       "      <td>Em</td>\n",
       "    </tr>\n",
       "    <tr>\n",
       "      <th>4</th>\n",
       "      <td>0</td>\n",
       "      <td>0</td>\n",
       "      <td>0</td>\n",
       "      <td>0</td>\n",
       "      <td>47</td>\n",
       "      <td>0</td>\n",
       "      <td>0</td>\n",
       "      <td>54</td>\n",
       "      <td>0</td>\n",
       "      <td>0</td>\n",
       "      <td>0</td>\n",
       "      <td>50</td>\n",
       "      <td>Em</td>\n",
       "    </tr>\n",
       "    <tr>\n",
       "      <th>5</th>\n",
       "      <td>0</td>\n",
       "      <td>0</td>\n",
       "      <td>0</td>\n",
       "      <td>0</td>\n",
       "      <td>47</td>\n",
       "      <td>0</td>\n",
       "      <td>0</td>\n",
       "      <td>0</td>\n",
       "      <td>0</td>\n",
       "      <td>0</td>\n",
       "      <td>0</td>\n",
       "      <td>50</td>\n",
       "      <td>Em</td>\n",
       "    </tr>\n",
       "  </tbody>\n",
       "</table>\n",
       "<p>200 rows × 13 columns</p>\n",
       "</div>"
      ],
      "text/plain": [
       "    C  C#    D  D#   E  F  F#   G  G#  A  A#    B Chord Actual\n",
       "0   0   0  111   0   0  0  50   0   0  0   0   49           Bm\n",
       "1   0   0   49   0   0  0  50   0   0  0   0   49           Bm\n",
       "2   0   0   49   0   0  0  50   0   0  0   0   49           Bm\n",
       "3   0   0   49   0   0  0  50   0   0  0   0   49           Bm\n",
       "4   0   0    0   0   0  0  58   0   0  0   0    0           Bm\n",
       ".. ..  ..  ...  ..  .. ..  ..  ..  .. ..  ..  ...          ...\n",
       "1   0   0    0   0  47  0   0  54   0  0   0  103           Em\n",
       "2   0   0    0   0  47  0   0  54   0  0   0   50           Em\n",
       "3   0   0    0   0  47  0   0  54   0  0   0   50           Em\n",
       "4   0   0    0   0  47  0   0  54   0  0   0   50           Em\n",
       "5   0   0    0   0  47  0   0   0   0  0   0   50           Em\n",
       "\n",
       "[200 rows x 13 columns]"
      ]
     },
     "execution_count": 7,
     "metadata": {},
     "output_type": "execute_result"
    }
   ],
   "source": [
    "song_chromagrams = []\n",
    "for song_name in tqdm(list(training_piece_names)):\n",
    "    indiv_chroma = get_chromagram(song_name, midi_data)\n",
    "    formatted = format_indiv_chroma(indiv_chroma)\n",
    "    song_chromagrams.append(indiv_chroma)\n",
    "\n",
    "chromagram = pd.concat(song_chromagrams)\n",
    "chromagram.head(200)"
   ]
  },
  {
   "cell_type": "markdown",
   "metadata": {
    "pycharm": {
     "name": "#%% md\n"
    }
   },
   "source": [
    "##### Create HMM Components:"
   ]
  },
  {
   "cell_type": "markdown",
   "metadata": {
    "pycharm": {
     "name": "#%% md\n"
    }
   },
   "source": [
    "###### Initial State Probabilities:"
   ]
  },
  {
   "cell_type": "code",
   "execution_count": 55,
   "metadata": {
    "pycharm": {
     "name": "#%%\n"
    }
   },
   "outputs": [
    {
     "data": {
      "text/plain": [
       "C        0.000193\n",
       "Cm       0.000000\n",
       "Cdim     0.000000\n",
       "C#       0.000964\n",
       "C#m      0.058438\n",
       "C#dim    0.000000\n",
       "D        0.121311\n",
       "Dm       0.000000\n",
       "Ddim     0.000000\n",
       "D#       0.000193\n",
       "D#m      0.020444\n",
       "D#dim    0.000000\n",
       "E        0.116297\n",
       "Em       0.060752\n",
       "Edim     0.000000\n",
       "F        0.000000\n",
       "Fm       0.000000\n",
       "Fdim     0.000000\n",
       "F#       0.020058\n",
       "F#m      0.021215\n",
       "F#dim    0.000000\n",
       "G        0.118997\n",
       "Gm       0.000000\n",
       "Gdim     0.000000\n",
       "G#       0.005593\n",
       "G#m      0.156027\n",
       "G#dim    0.000000\n",
       "A        0.020636\n",
       "Am       0.000000\n",
       "Adim     0.000000\n",
       "A#       0.000579\n",
       "A#m      0.000000\n",
       "A#dim    0.000000\n",
       "B        0.121697\n",
       "Bm       0.156606\n",
       "Bdim     0.000000\n",
       "dtype: float64"
      ]
     },
     "execution_count": 55,
     "metadata": {},
     "output_type": "execute_result"
    }
   ],
   "source": [
    "initial_state_probabilties = calculate_initial_probabilities(training_piece_names, midi_data)\n",
    "initial_state_probabilties"
   ]
  },
  {
   "cell_type": "markdown",
   "metadata": {
    "pycharm": {
     "name": "#%% md\n"
    }
   },
   "source": [
    "###### Transition Matrix:"
   ]
  },
  {
   "cell_type": "code",
   "execution_count": 56,
   "metadata": {
    "pycharm": {
     "name": "#%%\n"
    }
   },
   "outputs": [
    {
     "name": "stdout",
     "output_type": "stream",
     "text": [
      "              C        Cm      Cdim        C#       C#m     C#dim         D  \\\n",
      "C      0.861736  0.000000  0.000000  0.001608  0.000000  0.000000  0.003215   \n",
      "Cm     0.027778  0.027778  0.027778  0.027778  0.027778  0.027778  0.027778   \n",
      "Cdim   0.027778  0.027778  0.027778  0.027778  0.027778  0.027778  0.027778   \n",
      "C#     0.000000  0.000000  0.000000  0.863343  0.000430  0.000000  0.006016   \n",
      "C#m    0.000000  0.000000  0.000000  0.000000  0.858921  0.000000  0.003067   \n",
      "C#dim  0.027778  0.027778  0.027778  0.027778  0.027778  0.027778  0.027778   \n",
      "D      0.000314  0.000000  0.000000  0.000000  0.001725  0.000000  0.863529   \n",
      "Dm     0.027778  0.027778  0.027778  0.027778  0.027778  0.027778  0.027778   \n",
      "Ddim   0.000000  0.000000  0.000000  0.000000  0.000000  0.000000  0.000000   \n",
      "D#     0.000000  0.000000  0.000000  0.001749  0.001749  0.000000  0.006997   \n",
      "D#m    0.000000  0.000000  0.000000  0.008675  0.003429  0.000000  0.006254   \n",
      "D#dim  0.027778  0.027778  0.027778  0.027778  0.027778  0.027778  0.027778   \n",
      "E      0.000055  0.000000  0.000000  0.003328  0.010639  0.000000  0.004256   \n",
      "Em     0.000000  0.000000  0.000000  0.000169  0.001351  0.000000  0.010471   \n",
      "Edim   0.027778  0.027778  0.027778  0.027778  0.027778  0.027778  0.027778   \n",
      "F      0.124521  0.000000  0.000000  0.000000  0.000000  0.000000  0.001916   \n",
      "Fm     0.027778  0.027778  0.027778  0.027778  0.027778  0.027778  0.027778   \n",
      "Fdim   0.027778  0.027778  0.027778  0.027778  0.027778  0.027778  0.027778   \n",
      "F#     0.000000  0.000000  0.000000  0.004584  0.004167  0.000000  0.006430   \n",
      "F#m    0.000000  0.000000  0.000000  0.000185  0.010924  0.000000  0.006665   \n",
      "F#dim  0.000000  0.000000  0.000000  0.000000  0.000000  0.000000  0.000000   \n",
      "G      0.000544  0.000000  0.000000  0.000242  0.002056  0.000000  0.030787   \n",
      "Gm     0.000000  0.000000  0.000000  0.000000  0.017857  0.000000  0.080357   \n",
      "Gdim   0.027778  0.027778  0.027778  0.027778  0.027778  0.027778  0.027778   \n",
      "G#     0.000732  0.000000  0.000000  0.001464  0.006589  0.000000  0.010249   \n",
      "G#m    0.000000  0.000000  0.000000  0.004611  0.007237  0.000000  0.001217   \n",
      "G#dim  0.000000  0.000000  0.000000  0.041667  0.000000  0.000000  0.000000   \n",
      "A      0.000131  0.000000  0.000000  0.003140  0.003467  0.000000  0.020080   \n",
      "Am     0.000000  0.000000  0.000000  0.000000  0.000000  0.000000  0.000000   \n",
      "Adim   0.027778  0.027778  0.027778  0.027778  0.027778  0.027778  0.027778   \n",
      "A#     0.003795  0.000000  0.000000  0.000000  0.000000  0.000000  0.017078   \n",
      "A#m    0.027778  0.027778  0.027778  0.027778  0.027778  0.027778  0.027778   \n",
      "A#dim  0.027778  0.027778  0.027778  0.027778  0.027778  0.027778  0.027778   \n",
      "B      0.000148  0.000000  0.000000  0.000148  0.013938  0.000000  0.009712   \n",
      "Bm     0.000000  0.000000  0.000000  0.000000  0.000507  0.000000  0.024081   \n",
      "Bdim   0.027778  0.027778  0.027778  0.027778  0.027778  0.027778  0.027778   \n",
      "\n",
      "             Dm      Ddim        D#  ...     G#dim         A        Am  \\\n",
      "C      0.000000  0.000000  0.001608  ...  0.000000  0.004823  0.000000   \n",
      "Cm     0.027778  0.027778  0.027778  ...  0.027778  0.027778  0.027778   \n",
      "Cdim   0.027778  0.027778  0.027778  ...  0.027778  0.027778  0.027778   \n",
      "C#     0.000000  0.000000  0.014181  ...  0.000000  0.002149  0.000000   \n",
      "C#m    0.000000  0.000000  0.009381  ...  0.000000  0.000000  0.000000   \n",
      "C#dim  0.027778  0.027778  0.027778  ...  0.027778  0.027778  0.027778   \n",
      "D      0.000000  0.000000  0.000000  ...  0.000000  0.047922  0.003686   \n",
      "Dm     0.027778  0.027778  0.027778  ...  0.027778  0.027778  0.027778   \n",
      "Ddim   0.000000  0.833333  0.000000  ...  0.000000  0.000000  0.000000   \n",
      "D#     0.000000  0.001166  0.879300  ...  0.000000  0.000583  0.000000   \n",
      "D#m    0.000000  0.000000  0.000000  ...  0.000000  0.001009  0.000000   \n",
      "D#dim  0.027778  0.027778  0.027778  ...  0.027778  0.027778  0.027778   \n",
      "E      0.000000  0.000000  0.000164  ...  0.000000  0.000709  0.000000   \n",
      "Em     0.000000  0.000000  0.000169  ...  0.000000  0.016720  0.000000   \n",
      "Edim   0.027778  0.027778  0.027778  ...  0.027778  0.027778  0.027778   \n",
      "F      0.000000  0.000000  0.000000  ...  0.000000  0.000000  0.000000   \n",
      "Fm     0.027778  0.027778  0.027778  ...  0.027778  0.027778  0.027778   \n",
      "Fdim   0.027778  0.027778  0.027778  ...  0.027778  0.027778  0.027778   \n",
      "F#     0.000000  0.000119  0.000060  ...  0.000179  0.001250  0.000000   \n",
      "F#m    0.000000  0.000000  0.000000  ...  0.000000  0.000555  0.000000   \n",
      "F#dim  0.000000  0.000000  0.000000  ...  0.000000  0.133166  0.000000   \n",
      "G      0.000000  0.000000  0.000000  ...  0.000000  0.033388  0.000000   \n",
      "Gm     0.000000  0.000000  0.000000  ...  0.000000  0.000000  0.000000   \n",
      "Gdim   0.027778  0.027778  0.027778  ...  0.027778  0.027778  0.027778   \n",
      "G#     0.000000  0.000000  0.004392  ...  0.000000  0.002196  0.000000   \n",
      "G#m    0.000000  0.000000  0.006724  ...  0.000000  0.000448  0.000000   \n",
      "G#dim  0.000000  0.000000  0.000000  ...  0.916667  0.000000  0.000000   \n",
      "A      0.000000  0.000000  0.000000  ...  0.000196  0.860880  0.000000   \n",
      "Am     0.000000  0.000000  0.000000  ...  0.000000  0.000000  0.864553   \n",
      "Adim   0.027778  0.027778  0.027778  ...  0.027778  0.027778  0.027778   \n",
      "A#     0.000000  0.000000  0.009488  ...  0.000000  0.005693  0.000000   \n",
      "A#m    0.027778  0.027778  0.027778  ...  0.027778  0.027778  0.027778   \n",
      "A#dim  0.027778  0.027778  0.027778  ...  0.027778  0.027778  0.027778   \n",
      "B      0.000000  0.000000  0.000000  ...  0.000000  0.000890  0.000000   \n",
      "Bm     0.000000  0.000000  0.000000  ...  0.000000  0.046641  0.000000   \n",
      "Bdim   0.027778  0.027778  0.027778  ...  0.027778  0.027778  0.027778   \n",
      "\n",
      "           Adim        A#       A#m     A#dim         B        Bm      Bdim  \n",
      "C      0.000000  0.000000  0.000000  0.000000  0.012862  0.001608  0.000000  \n",
      "Cm     0.027778  0.027778  0.027778  0.027778  0.027778  0.027778  0.027778  \n",
      "Cdim   0.027778  0.027778  0.027778  0.027778  0.027778  0.027778  0.027778  \n",
      "C#     0.000000  0.000000  0.000000  0.000000  0.004727  0.009454  0.000000  \n",
      "C#m    0.000000  0.000000  0.000000  0.000000  0.011907  0.002526  0.000000  \n",
      "C#dim  0.027778  0.027778  0.027778  0.027778  0.027778  0.027778  0.027778  \n",
      "D      0.000000  0.000157  0.000000  0.000000  0.003686  0.027529  0.000000  \n",
      "Dm     0.027778  0.027778  0.027778  0.027778  0.027778  0.027778  0.027778  \n",
      "Ddim   0.000000  0.000000  0.000000  0.000000  0.083333  0.000000  0.000000  \n",
      "D#     0.000000  0.000000  0.000000  0.000000  0.004082  0.004665  0.000000  \n",
      "D#m    0.000000  0.000000  0.000000  0.000000  0.006859  0.005850  0.000000  \n",
      "D#dim  0.027778  0.027778  0.027778  0.027778  0.027778  0.027778  0.027778  \n",
      "E      0.000000  0.000109  0.000000  0.000000  0.030935  0.005401  0.000000  \n",
      "Em     0.000000  0.000000  0.000000  0.000000  0.005067  0.049654  0.000000  \n",
      "Edim   0.027778  0.027778  0.027778  0.027778  0.027778  0.027778  0.027778  \n",
      "F      0.000000  0.009579  0.000000  0.000000  0.000000  0.000000  0.000000  \n",
      "Fm     0.027778  0.027778  0.027778  0.027778  0.027778  0.027778  0.027778  \n",
      "Fdim   0.027778  0.027778  0.027778  0.027778  0.027778  0.027778  0.027778  \n",
      "F#     0.000000  0.002977  0.000000  0.000000  0.019230  0.008335  0.000000  \n",
      "F#m    0.000000  0.000000  0.000000  0.000000  0.005555  0.016849  0.000000  \n",
      "F#dim  0.000000  0.000000  0.000000  0.000000  0.000000  0.000000  0.000000  \n",
      "G      0.000000  0.000000  0.000000  0.000000  0.008045  0.021230  0.000000  \n",
      "Gm     0.000000  0.008929  0.000000  0.000000  0.008929  0.000000  0.000000  \n",
      "Gdim   0.027778  0.027778  0.027778  0.027778  0.027778  0.027778  0.027778  \n",
      "G#     0.000000  0.001464  0.000000  0.000000  0.030747  0.021962  0.000000  \n",
      "G#m    0.000000  0.000000  0.000000  0.000000  0.022927  0.002113  0.000000  \n",
      "G#dim  0.000000  0.000000  0.000000  0.000000  0.000000  0.041667  0.000000  \n",
      "A      0.000000  0.000065  0.000000  0.000000  0.010073  0.040617  0.000000  \n",
      "Am     0.000000  0.000000  0.000000  0.000000  0.000000  0.000000  0.000000  \n",
      "Adim   0.027778  0.027778  0.027778  0.027778  0.027778  0.027778  0.027778  \n",
      "A#     0.000000  0.876660  0.000000  0.000000  0.013283  0.017078  0.000000  \n",
      "A#m    0.027778  0.027778  0.027778  0.027778  0.027778  0.027778  0.027778  \n",
      "A#dim  0.027778  0.027778  0.027778  0.027778  0.027778  0.027778  0.027778  \n",
      "B      0.000000  0.000148  0.000000  0.000000  0.863879  0.006228  0.000000  \n",
      "Bm     0.000000  0.000000  0.000000  0.000000  0.001077  0.861850  0.000000  \n",
      "Bdim   0.027778  0.027778  0.027778  0.027778  0.027778  0.027778  0.027778  \n",
      "\n",
      "[36 rows x 36 columns]\n"
     ]
    }
   ],
   "source": [
    "transition_prob_matrix = calculate_transition_probabilites(chromagram)\n",
    "print(transition_prob_matrix)\n",
    "assert np.allclose(transition_prob_matrix.sum(axis=1), 1), \"Not all rows sum to 1\""
   ]
  },
  {
   "cell_type": "markdown",
   "metadata": {
    "pycharm": {
     "name": "#%% md\n"
    }
   },
   "source": [
    "###### Mu Value:"
   ]
  },
  {
   "cell_type": "code",
   "execution_count": 57,
   "metadata": {
    "pycharm": {
     "name": "#%%\n"
    }
   },
   "outputs": [],
   "source": [
    "mu = calculate_mu_from_chroma(chromagram)"
   ]
  },
  {
   "cell_type": "markdown",
   "metadata": {
    "pycharm": {
     "name": "#%% md\n"
    }
   },
   "source": [
    "###### Covariance Matrix:"
   ]
  },
  {
   "cell_type": "code",
   "execution_count": 58,
   "metadata": {},
   "outputs": [
    {
     "name": "stdout",
     "output_type": "stream",
     "text": [
      "Covariances shape: (36, 12, 12)\n"
     ]
    }
   ],
   "source": [
    "# Example usage\n",
    "covars = calculate_covariance_from_chroma(chromagram)\n",
    "print(\"Covariances shape:\", covars.shape)"
   ]
  },
  {
   "cell_type": "code",
   "execution_count": 59,
   "metadata": {
    "pycharm": {
     "name": "#%%\n"
    }
   },
   "outputs": [],
   "source": [
    "model = hmm.GaussianHMM(n_components=transition_prob_matrix.shape[0], covariance_type=\"diag\")\n",
    "model.startprob_ = initial_state_probabilties\n",
    "model.transmat_ = transition_prob_matrix.values\n",
    "model.means_ = mu.reshape(-1, 1)\n",
    "model.covars_ = np.array([np.diag(cov_matrix) + 1e-6 for cov_matrix in covars]).reshape(-1, 12)\n",
    "model.n_features = 36"
   ]
  },
  {
   "cell_type": "code",
   "execution_count": 73,
   "metadata": {
    "pycharm": {
     "name": "#%%\n"
    }
   },
   "outputs": [
    {
     "name": "stderr",
     "output_type": "stream",
     "text": [
      "100%|████████████████████████████████████████| 577/577 [00:05<00:00, 104.00it/s]"
     ]
    },
    {
     "name": "stdout",
     "output_type": "stream",
     "text": [
      "F1 Score: 0.0658578856152513\n"
     ]
    },
    {
     "name": "stderr",
     "output_type": "stream",
     "text": [
      "\n"
     ]
    }
   ],
   "source": [
    "custom_encoding = {}\n",
    "for i, chord in enumerate(FULL_CHORD_LIST):\n",
    "    custom_encoding[chord] = i\n",
    "\n",
    "true_labels = []\n",
    "predicted_labels = []\n",
    "for song_name in tqdm(list(test_piece_names)):\n",
    "    last_chord, chromagram_without_last_chord = separate_last_chord(get_chromagram(song_name, midi_data))\n",
    "    if not chromagram_without_last_chord.empty:\n",
    "        encoded_chromagram_without_last_chord = chromagram_without_last_chord['Chord Actual'].apply(lambda x: custom_encoding.get(x, -1)).values.reshape(-1, 1)\n",
    "        preds = model.predict(encoded_chromagram_without_last_chord)\n",
    "        prediction = preds[-1]\n",
    "        predicted_labels.append(prediction)\n",
    "        true_labels.append(custom_encoding.get(last_chord, -1))\n",
    "\n",
    "f1 = f1_score(true_labels, predicted_labels, average='micro')\n",
    "print(f\"F1 Score: {f1}\")"
   ]
  },
  {
   "cell_type": "code",
   "execution_count": null,
   "metadata": {
    "pycharm": {
     "name": "#%%\n"
    }
   },
   "outputs": [],
   "source": []
  },
  {
   "cell_type": "code",
   "execution_count": null,
   "metadata": {
    "pycharm": {
     "name": "#%%\n"
    }
   },
   "outputs": [],
   "source": []
  },
  {
   "cell_type": "code",
   "execution_count": null,
   "metadata": {
    "pycharm": {
     "name": "#%%\n"
    }
   },
   "outputs": [],
   "source": []
  }
 ],
 "metadata": {
  "kernelspec": {
   "display_name": "Python 3 (ipykernel)",
   "language": "python",
   "name": "python3"
  },
  "language_info": {
   "codemirror_mode": {
    "name": "ipython",
    "version": 3
   },
   "file_extension": ".py",
   "mimetype": "text/x-python",
   "name": "python",
   "nbconvert_exporter": "python",
   "pygments_lexer": "ipython3",
   "version": "3.7.10"
  }
 },
 "nbformat": 4,
 "nbformat_minor": 2
}
