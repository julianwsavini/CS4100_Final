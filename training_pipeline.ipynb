{
 "cells": [
  {
   "cell_type": "markdown",
   "metadata": {
    "pycharm": {
     "name": "#%% md\n"
    }
   },
   "source": [
    "##### Imports:"
   ]
  },
  {
   "cell_type": "code",
   "execution_count": null,
   "outputs": [],
   "source": [
    "from utils import NOTES_NAMES, FULL_CHORD_LIST, CUSTOM_ENCODING, INVERSE_ENCODING, separate_last_chord, mean_chord_distance_with_quality, predict_next_chords, calculate_covariance_from_chroma, separate_for_training, calculate_mu_from_chroma, calculate_transition_probabilites, format_indiv_chroma, get_unique_predicted, calculate_initial_probabilities, chord_distance_with_quality\n",
    "import pickle\n",
    "from chroma import get_chromagram\n",
    "import pandas as pd\n",
    "from tqdm import tqdm\n",
    "import numpy as np\n",
    "from hmmlearn import hmm\n",
    "from sklearn.metrics import f1_score\n",
    "import altair as alt"
   ],
   "metadata": {
    "collapsed": false,
    "pycharm": {
     "name": "#%%\n"
    }
   }
  },
  {
   "cell_type": "markdown",
   "source": [
    "##### Steps:"
   ],
   "metadata": {
    "collapsed": false,
    "pycharm": {
     "name": "#%% md\n"
    }
   }
  },
  {
   "cell_type": "markdown",
   "source": [
    "1. Training / Testing Data Split\n",
    "2. Create Chromagram from Training Data\n",
    "3. Create HMM Initialization Components\n",
    "    - Initial State Probabilities\n",
    "    - Transition Probability Matrix\n",
    "    - Mu Value\n",
    "    - Emission Matrix\n",
    "4. Create HMM Object\n",
    "5. Fit / Train HMM"
   ],
   "metadata": {
    "collapsed": false,
    "pycharm": {
     "name": "#%% md\n"
    }
   }
  },
  {
   "cell_type": "markdown",
   "source": [
    "##### Training / Test Data Split:"
   ],
   "metadata": {
    "collapsed": false,
    "pycharm": {
     "name": "#%% md\n"
    }
   }
  },
  {
   "cell_type": "code",
   "execution_count": null,
   "outputs": [],
   "source": [
    "# Load data and split into training and test\n",
    "with open(r\"dataset.pkl\", 'rb') as data:\n",
    "    midi_data:dict = pickle.load(data)\n",
    "\n",
    "training_piece_names, test_piece_names = separate_for_training(midi_data, 0.8)\n",
    "NOTES_NAMES =   [\"C\", \"C#\", \"D\", \"D#\", \"E\", \"F\", \"F#\", \"G\", \"G#\", \"A\", \"A#\", \"B\"]\n",
    "FULL_CHORD_LIST = [note + suffix for note in NOTES_NAMES for suffix in ['', 'm', 'dim']]"
   ],
   "metadata": {
    "collapsed": false,
    "pycharm": {
     "name": "#%%\n"
    }
   }
  },
  {
   "cell_type": "markdown",
   "source": [
    "##### Create Chromagram from Training Data:"
   ],
   "metadata": {
    "collapsed": false,
    "pycharm": {
     "name": "#%% md\n"
    }
   }
  },
  {
   "cell_type": "code",
   "execution_count": null,
   "outputs": [],
   "source": [
    "song_chromagrams = []\n",
    "for song_name in tqdm(list(training_piece_names)):\n",
    "    indiv_chroma = get_chromagram(song_name, midi_data)\n",
    "    formatted = format_indiv_chroma(indiv_chroma)\n",
    "    song_chromagrams.append(indiv_chroma)\n",
    "\n",
    "chromagram = pd.concat(song_chromagrams)\n",
    "chromagram.head(200)"
   ],
   "metadata": {
    "collapsed": false,
    "pycharm": {
     "name": "#%%\n"
    }
   }
  },
  {
   "cell_type": "markdown",
   "source": [
    "##### Create HMM Components:"
   ],
   "metadata": {
    "collapsed": false,
    "pycharm": {
     "name": "#%% md\n"
    }
   }
  },
  {
   "cell_type": "markdown",
   "source": [
    "###### Initial State Probabilities:"
   ],
   "metadata": {
    "collapsed": false,
    "pycharm": {
     "name": "#%% md\n"
    }
   }
  },
  {
   "cell_type": "code",
   "execution_count": null,
   "outputs": [],
   "source": [
    "initial_state_probabilties = calculate_initial_probabilities(training_piece_names, midi_data)\n",
    "initial_state_probabilties"
   ],
   "metadata": {
    "collapsed": false,
    "pycharm": {
     "name": "#%%\n"
    }
   }
  },
  {
   "cell_type": "markdown",
   "source": [
    "###### Transition Matrix:"
   ],
   "metadata": {
    "collapsed": false,
    "pycharm": {
     "name": "#%% md\n"
    }
   }
  },
  {
   "cell_type": "code",
   "execution_count": null,
   "outputs": [],
   "source": [
    "transition_prob_matrix = calculate_transition_probabilites(chromagram)\n",
    "print(transition_prob_matrix)\n",
    "assert np.allclose(transition_prob_matrix.sum(axis=1), 1), \"Not all rows sum to 1\""
   ],
   "metadata": {
    "collapsed": false,
    "pycharm": {
     "name": "#%%\n"
    }
   }
  },
  {
   "cell_type": "markdown",
   "source": [
    "###### Mu Value:"
   ],
   "metadata": {
    "collapsed": false,
    "pycharm": {
     "name": "#%% md\n"
    }
   }
  },
  {
   "cell_type": "code",
   "execution_count": null,
   "outputs": [],
   "source": [
    "mu = calculate_mu_from_chroma(chromagram)"
   ],
   "metadata": {
    "collapsed": false,
    "pycharm": {
     "name": "#%%\n"
    }
   }
  },
  {
   "cell_type": "markdown",
   "source": [
    "###### Covariance Matrix:"
   ],
   "metadata": {
    "collapsed": false,
    "pycharm": {
     "name": "#%% md\n"
    }
   }
  },
  {
   "cell_type": "code",
   "execution_count": null,
   "outputs": [],
   "source": [
    "covars = calculate_covariance_from_chroma(chromagram)\n",
    "print(\"Covariances shape:\", covars.shape)"
   ],
   "metadata": {
    "collapsed": false,
    "pycharm": {
     "name": "#%%\n"
    }
   }
  },
  {
   "cell_type": "code",
   "execution_count": null,
   "outputs": [],
   "source": [
    "#Initialize model and set parameters\n",
    "model = hmm.GaussianHMM(n_components=transition_prob_matrix.shape[0], covariance_type=\"diag\")\n",
    "model.startprob_ = initial_state_probabilties\n",
    "model.transmat_ = transition_prob_matrix.values\n",
    "model.means_ = mu\n",
    "model.covars_ = np.array([np.diag(cov_matrix) + 1e-6 for cov_matrix in covars]).reshape(-1, 12)\n",
    "model.n_features = 36"
   ],
   "metadata": {
    "collapsed": false,
    "pycharm": {
     "name": "#%%\n"
    }
   }
  },
  {
   "cell_type": "code",
   "execution_count": null,
   "outputs": [],
   "source": [
    "#Conduct testing by separating the last chord from a testing piece and using the beginning of said piece to make a prediction.\n",
    "#Compare true last chord to predicted last chord to make initial assessment\n",
    "true_labels = []\n",
    "predicted_labels = []\n",
    "for song_name in tqdm(list(test_piece_names)):\n",
    "    last_chord, chromagram_without_last_chord = separate_last_chord(get_chromagram(song_name, midi_data))\n",
    "    if not chromagram_without_last_chord.empty:\n",
    "        encoded_chromagram_without_last_chord = chromagram_without_last_chord['Chord Actual'].apply(lambda x: CUSTOM_ENCODING.get(x, -1)).values.reshape(-1, 1)\n",
    "        preds = model.predict(encoded_chromagram_without_last_chord)\n",
    "        prediction = preds[-1]\n",
    "        predicted_labels.append(prediction)\n",
    "        true_labels.append(CUSTOM_ENCODING.get(last_chord, -1))\n",
    "\n",
    "f1 = f1_score(true_labels, predicted_labels, average='micro')\n",
    "print(f\"F1 Score: {f1}\")"
   ],
   "metadata": {
    "collapsed": false,
    "pycharm": {
     "name": "#%%\n"
    }
   }
  },
  {
   "cell_type": "code",
   "execution_count": null,
   "outputs": [],
   "source": [
    "#Return chords to readable form, calculate average distance between predictions and true chords\n",
    "inverted_custom_encoding = {val:key for key, val in CUSTOM_ENCODING.items()}\n",
    "\n",
    "true_chords = pd.Series(true_labels).apply(lambda x: inverted_custom_encoding[x])\n",
    "predicted_chords = pd.Series(predicted_labels).apply(lambda x: inverted_custom_encoding[x])\n",
    "song_names = pd.Series(test_piece_names)\n",
    "\n",
    "frame_data = {\n",
    "    'Song Name': song_names,\n",
    "    'True Chord': true_chords,\n",
    "    'Predicted Chord': predicted_chords\n",
    "}\n",
    "chord_distance_df = pd.DataFrame(frame_data)\n",
    "\n",
    "chord_distance_df['Distance'] = pd.Series([chord_distance_with_quality(pred, true) for pred, true in zip(chord_distance_df['True Chord'], chord_distance_df['Predicted Chord'])])\n",
    "\n",
    "\n",
    "chord_distance_df.head()\n"
   ],
   "metadata": {
    "collapsed": false,
    "pycharm": {
     "name": "#%%\n"
    }
   }
  },
  {
   "cell_type": "code",
   "execution_count": null,
   "outputs": [],
   "source": [
    "#Plot distances\n",
    "num_test_songs = chord_distance_df['Song Name'].count()\n",
    "print(chord_distance_df['Distance'].apply(np.abs).mean())\n",
    "\n",
    "distance_bars = alt.Chart(chord_distance_df).mark_bar(\n",
    "    binSpacing = 0.1,\n",
    "    width=1\n",
    ").encode(\n",
    "    x=alt.X('Song Name:N', axis=alt.Axis(labels=False, ticks=True), sort='-y').title(f'Songs (n={num_test_songs})'),\n",
    "    y=alt.Y('Distance:Q').title('Distance (Actual - Predicted)'),\n",
    "    color=alt.Color('Distance:N').scale(scheme='bluepurple'),\n",
    "    tooltip=['Song Name', 'True Chord', 'Predicted Chord', 'Distance'],\n",
    ").properties(\n",
    "    title='Distribution of the distance between Predicted and Actual chords for each Test Song'\n",
    ")\n",
    "\n",
    "distance_avg_line = alt.Chart(chord_distance_df).mark_rule(\n",
    "    color='red',\n",
    ").encode(\n",
    "    y=alt.Y('mean(Distance):Q', title='')\n",
    ")\n",
    "\n",
    "combined_chart = alt.layer(\n",
    "    distance_bars,\n",
    "    distance_avg_line\n",
    ").properties(\n",
    "    width=1000\n",
    ")\n",
    "combined_chart"
   ],
   "metadata": {
    "collapsed": false,
    "pycharm": {
     "name": "#%%\n"
    }
   }
  },
  {
   "cell_type": "code",
   "execution_count": null,
   "outputs": [],
   "source": [],
   "metadata": {
    "collapsed": false,
    "pycharm": {
     "name": "#%%\n"
    }
   }
  },
  {
   "cell_type": "code",
   "execution_count": null,
   "metadata": {},
   "outputs": [],
   "source": []
  }
 ],
 "metadata": {
  "kernelspec": {
   "display_name": "Python 3 (ipykernel)",
   "language": "python",
   "name": "python3"
  },
  "language_info": {
   "codemirror_mode": {
    "name": "ipython",
    "version": 3
   },
   "file_extension": ".py",
   "mimetype": "text/x-python",
   "name": "python",
   "nbconvert_exporter": "python",
   "pygments_lexer": "ipython3",
   "version": "3.7.10"
  }
 },
 "nbformat": 4,
 "nbformat_minor": 2
}